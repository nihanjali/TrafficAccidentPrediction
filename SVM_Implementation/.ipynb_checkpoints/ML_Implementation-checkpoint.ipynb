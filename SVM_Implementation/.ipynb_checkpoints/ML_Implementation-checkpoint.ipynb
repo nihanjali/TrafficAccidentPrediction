{
 "cells": [
  {
   "cell_type": "code",
   "execution_count": 1,
   "metadata": {},
   "outputs": [
    {
     "name": "stdout",
     "output_type": "stream",
     "text": [
      "       LONGITUDE   LATITUDE  SPD      LEN    ACC      VOL  F85th  LOCAL  \\\n",
      "0    -121.803753  37.227881   35   3200.0   18.0   8100.0   40.0      0   \n",
      "1    -121.791060  37.225223   25   3362.0    4.0   2550.0   29.0      0   \n",
      "2    -121.862273  37.341412   25   4400.0   42.0   7550.0   29.5      0   \n",
      "3    -121.900218  37.331962   25   1580.0    5.0   3000.0   29.5      0   \n",
      "4    -121.860729  37.358019   40  13100.0  281.0  29500.0   41.3      0   \n",
      "...          ...        ...  ...      ...    ...      ...    ...    ...   \n",
      "4347 -121.882064  37.221661   35   8750.0   30.0  10800.0   39.3      0   \n",
      "4348 -121.871737  37.396813   35   7300.0   28.0  14300.0   39.5      0   \n",
      "4349 -121.791719  37.314021   40  10990.0   71.0  25800.0   43.7      0   \n",
      "4350 -121.891325  37.307313   25   3600.0   21.0  11700.0   29.5      0   \n",
      "4351 -121.797626  37.329070   25   3900.0   11.0   1480.0   34.0      1   \n",
      "\n",
      "      F50th  Precip  Air max  min   obs  hour  Accident  \n",
      "0      36.0    0.00       83   57  70.0  17.0         0  \n",
      "1      26.0    0.07       67   47  57.0   7.0         0  \n",
      "2      26.0    0.00       82   59  70.5   0.0         0  \n",
      "3      26.0    0.02       69   49  59.0  19.0         0  \n",
      "4      37.3    0.07       59   42  50.5   3.0         0  \n",
      "...     ...     ...      ...  ...   ...   ...       ...  \n",
      "4347   36.0    0.06       57   41  49.0  11.0         0  \n",
      "4348   35.5    0.12       58   42  50.0   5.0         0  \n",
      "4349   39.3    0.01       76   52  64.0  12.0         0  \n",
      "4350   26.5    0.02       69   49  59.0  23.0         0  \n",
      "4351   25.0    0.04       74   53  63.5   7.0         0  \n",
      "\n",
      "[4352 rows x 15 columns]\n"
     ]
    }
   ],
   "source": [
    "import pandas as pd\n",
    "data = pd.read_csv('final_data.csv')\n",
    "data.drop(columns = 'Unnamed: 0', inplace = True)\n",
    "print(data)"
   ]
  },
  {
   "cell_type": "code",
   "execution_count": 2,
   "metadata": {},
   "outputs": [],
   "source": [
    "X = data.drop('Accident',axis=1)\n",
    "y = data['Accident']"
   ]
  },
  {
   "cell_type": "code",
   "execution_count": 3,
   "metadata": {},
   "outputs": [],
   "source": [
    "from sklearn.model_selection import train_test_split\n",
    "X_train, X_test, y_train, y_test = train_test_split(X, y, test_size = 0.30)"
   ]
  },
  {
   "cell_type": "code",
   "execution_count": null,
   "metadata": {},
   "outputs": [],
   "source": [
    "#SVM\n",
    "from sklearn.svm import SVC\n",
    "svclassifier = SVC(kernel='linear',C=2,gamma=0.01)\n",
    "svclassifier.fit(X_train, y_train)"
   ]
  },
  {
   "cell_type": "code",
   "execution_count": null,
   "metadata": {},
   "outputs": [],
   "source": [
    "print(svclassifier.score(X_test,y_test))\n",
    "\n",
    "from sklearn.metrics import accuracy_score\n",
    "y_pred = svclassifier.predict(X_test)\n",
    "print(accuracy_score(y_test,y_pred))"
   ]
  }
 ],
 "metadata": {
  "kernelspec": {
   "display_name": "Python 3",
   "language": "python",
   "name": "python3"
  },
  "language_info": {
   "codemirror_mode": {
    "name": "ipython",
    "version": 3
   },
   "file_extension": ".py",
   "mimetype": "text/x-python",
   "name": "python",
   "nbconvert_exporter": "python",
   "pygments_lexer": "ipython3",
   "version": "3.7.3"
  }
 },
 "nbformat": 4,
 "nbformat_minor": 2
}
