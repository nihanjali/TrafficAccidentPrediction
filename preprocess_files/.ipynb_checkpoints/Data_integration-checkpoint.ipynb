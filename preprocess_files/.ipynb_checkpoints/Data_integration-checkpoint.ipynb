{
 "cells": [
  {
   "cell_type": "code",
   "execution_count": 2,
   "metadata": {},
   "outputs": [],
   "source": [
    "import pandas as pd\n",
    "import matplotlib.pyplot as plt\n",
    "\n",
    "weather = pd.read_csv('weather_clean.csv')\n",
    "acc_speed = pd.read_csv('accident_speed.csv')"
   ]
  },
  {
   "cell_type": "code",
   "execution_count": 3,
   "metadata": {
    "scrolled": false
   },
   "outputs": [
    {
     "name": "stdout",
     "output_type": "stream",
     "text": [
      "     LONGITUDE   LATITUDE                      Date       AStreet  \\\n",
      "0  -121.876246  37.259063                  20160318    ALMADEN EX   \n",
      "1  -121.815356  37.358727                  20160315   LANCELOT LN   \n",
      "2  -121.819160  37.356147                  20170323      STORY RD   \n",
      "3  -121.827576  37.324070                  20170328       KING RD   \n",
      "4  -121.852886  37.306752                  20170331    PARROTT ST   \n",
      "5  -121.871524  37.327908                  20170518   SINCLAIR FR   \n",
      "6  -121.894272  37.257455                  20170508    BRANHAM LN   \n",
      "7  -121.901664  37.309271                  20170316    EL ABRA WY   \n",
      "8  -121.884835  37.347696                  20170317   ELEVENTH ST   \n",
      "9  -121.888104  37.325197                  20170321    ALMADEN BL   \n",
      "10 -121.805527  37.246213  2017-03-23T22:15:00.000Z    BESWICK DR   \n",
      "11 -121.881649  37.326100  2016-07-01T23:05:00.000Z   MARGARET ST   \n",
      "12 -121.904674  37.267949  2016-06-28T20:36:00.000Z  HILLSDALE AV   \n",
      "13 -121.923806  37.317288  2016-07-04T17:25:00.000Z      LEIGH AV   \n",
      "14 -121.688851  37.167442  2016-07-24T03:00:00.000Z   LIVE OAK AV   \n",
      "15 -121.897051  37.350596  2015-06-08T15:10:00.000Z     FOURTH ST   \n",
      "16 -121.854286  37.280218  2017-05-12T23:20:00.000Z  HILLSDALE AV   \n",
      "17 -121.867327  37.221358  2016-08-28T21:16:00.000Z       BOSE LN   \n",
      "18 -121.736417  37.201134  2016-07-03T07:52:00.000Z     BAILEY AV   \n",
      "19 -121.938448  37.250633  2013-05-24T07:43:00.000Z     COOPER AV   \n",
      "\n",
      "            BStreet  FatalInjuries  MajorInjuries  Involving  \\\n",
      "0         CHERRY AV              0              1          1   \n",
      "1          STORY RD              0              1          1   \n",
      "2          WHITE RD              0              1          2   \n",
      "3       SEMINOLE WY              0              1          1   \n",
      "4          TENTH ST              0              1          0   \n",
      "5          TENTH ST              1              0          0   \n",
      "6   VIA DE CABALLE               1              0          0   \n",
      "7        LINCOLN AV              0              1          0   \n",
      "8     WASHINGTON ST              0              1          0   \n",
      "9           REED ST              0              1          1   \n",
      "10       HERLONG AV              0              1          2   \n",
      "11        SECOND ST              0              1          0   \n",
      "12      MERIDIAN AV              0              1          0   \n",
      "13      PARKMOOR AV              0              1          2   \n",
      "14      MONTEREY RD              1              0          0   \n",
      "15        TAYLOR ST              0              1          0   \n",
      "16     VISTAPARK DR              1              1          0   \n",
      "17        CAMDEN AV              2              1          0   \n",
      "18  SANTA TERESA BL              0              1          0   \n",
      "19     SAMARITAN DR              0              1          2   \n",
      "\n",
      "                         Nearest_Intersection  SPD    LEN  ACC    VOL  F85th  \\\n",
      "0                      ALMADEN EX & CHERRY AV   35  13450   54   7200   37.3   \n",
      "1                      LANCELOT LN & STORY RD   30   3650    5   4800   33.0   \n",
      "2                         STORY RD & WHITE RD   30   2600   25   6150   33.5   \n",
      "3                       KING RD & SEMINOLE WY   35   5400   38  11050   39.3   \n",
      "4                       PARROTT ST & TENTH ST   40   5000   37  12800   42.5   \n",
      "5                      SINCLAIR FR & TENTH ST   40   5000   37  12800   42.5   \n",
      "6                BRANHAM LN & VIA DE CABALLE    30   5400    9   3850   34.5   \n",
      "7                     EL ABRA WY & LINCOLN AV   30   3775   19  11300   32.5   \n",
      "8                 ELEVENTH ST & WASHINGTON ST   30  14650  183  25700   34.3   \n",
      "9                        ALMADEN BL & REED ST   25   2900   17   5100   30.0   \n",
      "10       102' east of BESWICK DR & HERLONG AV   35   2700   11   7150   39.0   \n",
      "11       96' north of MARGARET ST & SECOND ST   30   3100   24  14650   34.0   \n",
      "12                 HILLSDALE AV & MERIDIAN AV   35   4950   36  15700   39.0   \n",
      "13                     LEIGH AV & PARKMOOR AV   40   2700   27  24400   45.0   \n",
      "14   2640' north of LIVE OAK AV & MONTEREY RD   45  10240  103  39950   47.0   \n",
      "15                      FOURTH ST & TAYLOR ST   25   1865    1   1600   25.0   \n",
      "16   100' west of HILLSDALE AV & VISTAPARK DR   35   2600    3   3650   37.0   \n",
      "17                        BOSE LN & CAMDEN AV   35   1600   13  15800   36.0   \n",
      "18  5280' west of BAILEY AV & SANTA TERESA BL   50  13100   22   6500   55.5   \n",
      "19                   COOPER AV & SAMARITAN DR   35   3900    6   8300   38.0   \n",
      "\n",
      "    LOCAL  F50th  \n",
      "0       0   33.3  \n",
      "1       0   30.0  \n",
      "2       0   29.5  \n",
      "3       0   34.7  \n",
      "4       0   39.0  \n",
      "5       0   39.0  \n",
      "6       0   31.0  \n",
      "7       0   29.5  \n",
      "8       0   30.5  \n",
      "9       1   25.0  \n",
      "10      0   35.0  \n",
      "11      0   30.0  \n",
      "12      0   35.5  \n",
      "13      0   41.0  \n",
      "14      0   42.0  \n",
      "15      0   22.0  \n",
      "16      0   33.0  \n",
      "17      0   33.0  \n",
      "18      0   48.5  \n",
      "19      0   34.0  \n",
      "       Date  Time  Precip  Air max  min   obs\n",
      "0  20000101  2359     0.0       55   44  49.5\n",
      "1  20000102  1600     0.0       63   37  53.0\n",
      "2  20000103  1600     0.0       58   37  57.0\n",
      "3  20000104  1600     0.0       58   38  57.0\n",
      "4  20000105  1600     0.0       59   38  58.0\n"
     ]
    }
   ],
   "source": [
    "print(acc_speed.head(20))\n",
    "print(weather.head())"
   ]
  },
  {
   "cell_type": "code",
   "execution_count": 4,
   "metadata": {},
   "outputs": [],
   "source": [
    "date_split = acc_speed['Date'].str.split(\"T\",n=1,expand=True)\n",
    "acc_speed['Accident_Date']= date_split[0]\n",
    "acc_speed['Accident_Time']= date_split[1]"
   ]
  },
  {
   "cell_type": "code",
   "execution_count": 5,
   "metadata": {},
   "outputs": [],
   "source": [
    "acc_speed = acc_speed.drop(columns='Date')\n",
    "acc_speed = acc_speed[['LONGITUDE','LATITUDE','Accident_Date','Accident_Time','AStreet','BStreet','FatalInjuries','MajorInjuries','Involving','Nearest_Intersection','SPD','LEN','ACC','VOL','F85th','LOCAL','F50th']]"
   ]
  },
  {
   "cell_type": "code",
   "execution_count": 6,
   "metadata": {},
   "outputs": [
    {
     "name": "stdout",
     "output_type": "stream",
     "text": [
      "    LONGITUDE   LATITUDE Accident_Date Accident_Time      AStreet  \\\n",
      "0 -121.876246  37.259063      20160318       unknown   ALMADEN EX   \n",
      "1 -121.815356  37.358727      20160315       unknown  LANCELOT LN   \n",
      "2 -121.819160  37.356147      20170323       unknown     STORY RD   \n",
      "3 -121.827576  37.324070      20170328       unknown      KING RD   \n",
      "4 -121.852886  37.306752      20170331       unknown   PARROTT ST   \n",
      "\n",
      "       BStreet  FatalInjuries  MajorInjuries  Involving  \\\n",
      "0    CHERRY AV              0              1          1   \n",
      "1     STORY RD              0              1          1   \n",
      "2     WHITE RD              0              1          2   \n",
      "3  SEMINOLE WY              0              1          1   \n",
      "4     TENTH ST              0              1          0   \n",
      "\n",
      "     Nearest_Intersection  SPD    LEN  ACC    VOL  F85th  LOCAL  F50th  \n",
      "0  ALMADEN EX & CHERRY AV   35  13450   54   7200   37.3      0   33.3  \n",
      "1  LANCELOT LN & STORY RD   30   3650    5   4800   33.0      0   30.0  \n",
      "2     STORY RD & WHITE RD   30   2600   25   6150   33.5      0   29.5  \n",
      "3   KING RD & SEMINOLE WY   35   5400   38  11050   39.3      0   34.7  \n",
      "4   PARROTT ST & TENTH ST   40   5000   37  12800   42.5      0   39.0  \n"
     ]
    }
   ],
   "source": [
    "acc_speed['Accident_Time'] = acc_speed['Accident_Time'].fillna(\"unknown\")\n",
    "print(acc_speed.head())"
   ]
  },
  {
   "cell_type": "code",
   "execution_count": 7,
   "metadata": {
    "scrolled": true
   },
   "outputs": [
    {
     "name": "stderr",
     "output_type": "stream",
     "text": [
      "/Library/Frameworks/Python.framework/Versions/3.7/lib/python3.7/site-packages/ipykernel_launcher.py:7: SettingWithCopyWarning: \n",
      "A value is trying to be set on a copy of a slice from a DataFrame\n",
      "\n",
      "See the caveats in the documentation: http://pandas.pydata.org/pandas-docs/stable/user_guide/indexing.html#returning-a-view-versus-a-copy\n",
      "  import sys\n"
     ]
    }
   ],
   "source": [
    "from datetime import datetime\n",
    "\n",
    "for x in range(10):\n",
    "    date = acc_speed['Accident_Date'][x]\n",
    "    datetimeobject = datetime.strptime(date,'%Y%m%d')\n",
    "    newformat = datetimeobject.strftime('%Y-%m-%d')\n",
    "    acc_speed['Accident_Date'][x] = newformat"
   ]
  },
  {
   "cell_type": "code",
   "execution_count": 8,
   "metadata": {},
   "outputs": [
    {
     "name": "stdout",
     "output_type": "stream",
     "text": [
      "     LONGITUDE   LATITUDE Accident_Date  Accident_Time       AStreet  \\\n",
      "0  -121.876246  37.259063    2016-03-18        unknown    ALMADEN EX   \n",
      "1  -121.815356  37.358727    2016-03-15        unknown   LANCELOT LN   \n",
      "2  -121.819160  37.356147    2017-03-23        unknown      STORY RD   \n",
      "3  -121.827576  37.324070    2017-03-28        unknown       KING RD   \n",
      "4  -121.852886  37.306752    2017-03-31        unknown    PARROTT ST   \n",
      "5  -121.871524  37.327908    2017-05-18        unknown   SINCLAIR FR   \n",
      "6  -121.894272  37.257455    2017-05-08        unknown    BRANHAM LN   \n",
      "7  -121.901664  37.309271    2017-03-16        unknown    EL ABRA WY   \n",
      "8  -121.884835  37.347696    2017-03-17        unknown   ELEVENTH ST   \n",
      "9  -121.888104  37.325197    2017-03-21        unknown    ALMADEN BL   \n",
      "10 -121.805527  37.246213    2017-03-23  22:15:00.000Z    BESWICK DR   \n",
      "11 -121.881649  37.326100    2016-07-01  23:05:00.000Z   MARGARET ST   \n",
      "12 -121.904674  37.267949    2016-06-28  20:36:00.000Z  HILLSDALE AV   \n",
      "13 -121.923806  37.317288    2016-07-04  17:25:00.000Z      LEIGH AV   \n",
      "14 -121.688851  37.167442    2016-07-24  03:00:00.000Z   LIVE OAK AV   \n",
      "15 -121.897051  37.350596    2015-06-08  15:10:00.000Z     FOURTH ST   \n",
      "16 -121.854286  37.280218    2017-05-12  23:20:00.000Z  HILLSDALE AV   \n",
      "17 -121.867327  37.221358    2016-08-28  21:16:00.000Z       BOSE LN   \n",
      "18 -121.736417  37.201134    2016-07-03  07:52:00.000Z     BAILEY AV   \n",
      "19 -121.938448  37.250633    2013-05-24  07:43:00.000Z     COOPER AV   \n",
      "\n",
      "            BStreet  FatalInjuries  MajorInjuries  Involving  \\\n",
      "0         CHERRY AV              0              1          1   \n",
      "1          STORY RD              0              1          1   \n",
      "2          WHITE RD              0              1          2   \n",
      "3       SEMINOLE WY              0              1          1   \n",
      "4          TENTH ST              0              1          0   \n",
      "5          TENTH ST              1              0          0   \n",
      "6   VIA DE CABALLE               1              0          0   \n",
      "7        LINCOLN AV              0              1          0   \n",
      "8     WASHINGTON ST              0              1          0   \n",
      "9           REED ST              0              1          1   \n",
      "10       HERLONG AV              0              1          2   \n",
      "11        SECOND ST              0              1          0   \n",
      "12      MERIDIAN AV              0              1          0   \n",
      "13      PARKMOOR AV              0              1          2   \n",
      "14      MONTEREY RD              1              0          0   \n",
      "15        TAYLOR ST              0              1          0   \n",
      "16     VISTAPARK DR              1              1          0   \n",
      "17        CAMDEN AV              2              1          0   \n",
      "18  SANTA TERESA BL              0              1          0   \n",
      "19     SAMARITAN DR              0              1          2   \n",
      "\n",
      "                         Nearest_Intersection  SPD    LEN  ACC    VOL  F85th  \\\n",
      "0                      ALMADEN EX & CHERRY AV   35  13450   54   7200   37.3   \n",
      "1                      LANCELOT LN & STORY RD   30   3650    5   4800   33.0   \n",
      "2                         STORY RD & WHITE RD   30   2600   25   6150   33.5   \n",
      "3                       KING RD & SEMINOLE WY   35   5400   38  11050   39.3   \n",
      "4                       PARROTT ST & TENTH ST   40   5000   37  12800   42.5   \n",
      "5                      SINCLAIR FR & TENTH ST   40   5000   37  12800   42.5   \n",
      "6                BRANHAM LN & VIA DE CABALLE    30   5400    9   3850   34.5   \n",
      "7                     EL ABRA WY & LINCOLN AV   30   3775   19  11300   32.5   \n",
      "8                 ELEVENTH ST & WASHINGTON ST   30  14650  183  25700   34.3   \n",
      "9                        ALMADEN BL & REED ST   25   2900   17   5100   30.0   \n",
      "10       102' east of BESWICK DR & HERLONG AV   35   2700   11   7150   39.0   \n",
      "11       96' north of MARGARET ST & SECOND ST   30   3100   24  14650   34.0   \n",
      "12                 HILLSDALE AV & MERIDIAN AV   35   4950   36  15700   39.0   \n",
      "13                     LEIGH AV & PARKMOOR AV   40   2700   27  24400   45.0   \n",
      "14   2640' north of LIVE OAK AV & MONTEREY RD   45  10240  103  39950   47.0   \n",
      "15                      FOURTH ST & TAYLOR ST   25   1865    1   1600   25.0   \n",
      "16   100' west of HILLSDALE AV & VISTAPARK DR   35   2600    3   3650   37.0   \n",
      "17                        BOSE LN & CAMDEN AV   35   1600   13  15800   36.0   \n",
      "18  5280' west of BAILEY AV & SANTA TERESA BL   50  13100   22   6500   55.5   \n",
      "19                   COOPER AV & SAMARITAN DR   35   3900    6   8300   38.0   \n",
      "\n",
      "    LOCAL  F50th  \n",
      "0       0   33.3  \n",
      "1       0   30.0  \n",
      "2       0   29.5  \n",
      "3       0   34.7  \n",
      "4       0   39.0  \n",
      "5       0   39.0  \n",
      "6       0   31.0  \n",
      "7       0   29.5  \n",
      "8       0   30.5  \n",
      "9       1   25.0  \n",
      "10      0   35.0  \n",
      "11      0   30.0  \n",
      "12      0   35.5  \n",
      "13      0   41.0  \n",
      "14      0   42.0  \n",
      "15      0   22.0  \n",
      "16      0   33.0  \n",
      "17      0   33.0  \n",
      "18      0   48.5  \n",
      "19      0   34.0  \n"
     ]
    }
   ],
   "source": [
    "print(acc_speed.head(20))"
   ]
  },
  {
   "cell_type": "code",
   "execution_count": 9,
   "metadata": {},
   "outputs": [
    {
     "name": "stderr",
     "output_type": "stream",
     "text": [
      "/Library/Frameworks/Python.framework/Versions/3.7/lib/python3.7/site-packages/ipykernel_launcher.py:5: SettingWithCopyWarning: \n",
      "A value is trying to be set on a copy of a slice from a DataFrame\n",
      "\n",
      "See the caveats in the documentation: http://pandas.pydata.org/pandas-docs/stable/user_guide/indexing.html#returning-a-view-versus-a-copy\n",
      "  \"\"\"\n",
      "/Library/Frameworks/Python.framework/Versions/3.7/lib/python3.7/site-packages/pandas/core/indexing.py:205: SettingWithCopyWarning: \n",
      "A value is trying to be set on a copy of a slice from a DataFrame\n",
      "\n",
      "See the caveats in the documentation: http://pandas.pydata.org/pandas-docs/stable/user_guide/indexing.html#returning-a-view-versus-a-copy\n",
      "  self._setitem_with_indexer(indexer, value)\n"
     ]
    }
   ],
   "source": [
    "for y in range(len(weather['Date'])):\n",
    "    wea = str(int(weather['Date'][y]))\n",
    "    datetimeobject = datetime.strptime(wea,'%Y%m%d')\n",
    "    newformat = datetimeobject.strftime('%Y-%m-%d')\n",
    "    weather['Date'][y] = newformat"
   ]
  },
  {
   "cell_type": "code",
   "execution_count": 10,
   "metadata": {
    "scrolled": true
   },
   "outputs": [
    {
     "name": "stdout",
     "output_type": "stream",
     "text": [
      "            Date  Time  Precip  Air max  min   obs\n",
      "0     2000-01-01  2359    0.00       55   44  49.5\n",
      "1     2000-01-02  1600    0.00       63   37  53.0\n",
      "2     2000-01-03  1600    0.00       58   37  57.0\n",
      "3     2000-01-04  1600    0.00       58   38  57.0\n",
      "4     2000-01-05  1600    0.00       59   38  58.0\n",
      "...          ...   ...     ...      ...  ...   ...\n",
      "7228  2019-10-16  2359    0.04       74   53  63.5\n",
      "7229  2019-10-17  2359    0.01       76   52  64.0\n",
      "7230  2019-10-18  2359    0.00       75   52  63.5\n",
      "7231  2019-10-19  2359    0.05       74   53  63.5\n",
      "7232  2019-10-20  2359    0.04       74   53  63.5\n",
      "\n",
      "[7233 rows x 6 columns]\n"
     ]
    }
   ],
   "source": [
    "print(weather)"
   ]
  },
  {
   "cell_type": "code",
   "execution_count": 11,
   "metadata": {},
   "outputs": [
    {
     "name": "stdout",
     "output_type": "stream",
     "text": [
      "<class 'pandas.core.frame.DataFrame'>\n",
      "RangeIndex: 7233 entries, 0 to 7232\n",
      "Data columns (total 6 columns):\n",
      "Date       7233 non-null object\n",
      "Time       7233 non-null int64\n",
      "Precip     7233 non-null float64\n",
      "Air max    7233 non-null int64\n",
      "min        7233 non-null int64\n",
      "obs        7233 non-null float64\n",
      "dtypes: float64(2), int64(3), object(1)\n",
      "memory usage: 339.2+ KB\n",
      "None\n",
      "<class 'pandas.core.frame.DataFrame'>\n",
      "RangeIndex: 853 entries, 0 to 852\n",
      "Data columns (total 17 columns):\n",
      "LONGITUDE               853 non-null float64\n",
      "LATITUDE                853 non-null float64\n",
      "Accident_Date           853 non-null object\n",
      "Accident_Time           853 non-null object\n",
      "AStreet                 853 non-null object\n",
      "BStreet                 853 non-null object\n",
      "FatalInjuries           853 non-null int64\n",
      "MajorInjuries           853 non-null int64\n",
      "Involving               853 non-null int64\n",
      "Nearest_Intersection    853 non-null object\n",
      "SPD                     853 non-null int64\n",
      "LEN                     853 non-null int64\n",
      "ACC                     853 non-null int64\n",
      "VOL                     853 non-null int64\n",
      "F85th                   853 non-null float64\n",
      "LOCAL                   853 non-null int64\n",
      "F50th                   853 non-null float64\n",
      "dtypes: float64(4), int64(8), object(5)\n",
      "memory usage: 113.4+ KB\n",
      "None\n"
     ]
    }
   ],
   "source": [
    "print(weather.info())\n",
    "print(acc_speed.info())"
   ]
  },
  {
   "cell_type": "code",
   "execution_count": 12,
   "metadata": {},
   "outputs": [],
   "source": [
    "dataset = pd.merge(left=weather,right=acc_speed, left_on='Date', right_on='Accident_Date')"
   ]
  },
  {
   "cell_type": "code",
   "execution_count": 13,
   "metadata": {
    "scrolled": true
   },
   "outputs": [
    {
     "name": "stdout",
     "output_type": "stream",
     "text": [
      "           Date  Time  Precip  Air max  min   obs   LONGITUDE   LATITUDE  \\\n",
      "0    2013-01-02  2359    0.17       58   42  50.0 -121.937379  37.250639   \n",
      "1    2013-01-02  2359    0.17       58   42  50.0 -121.839120  37.379700   \n",
      "2    2013-01-04  2359    0.12       58   42  50.0 -121.881171  37.274645   \n",
      "3    2013-01-04  2359    0.12       58   42  50.0 -121.906587  37.363385   \n",
      "4    2013-01-07  2359    0.12       58   42  50.0 -121.883632  37.326856   \n",
      "..          ...   ...     ...      ...  ...   ...         ...        ...   \n",
      "848  2017-12-22  2359    0.11       55   40  47.5 -121.913414  37.340647   \n",
      "849  2017-12-24  2359    0.04       57   40  48.5 -121.873585  37.293711   \n",
      "850  2017-12-26  2359    0.04       57   40  48.5 -121.868898  37.311358   \n",
      "851  2017-12-28  2359    0.15       56   42  49.0 -121.950018  37.304217   \n",
      "852  2017-12-29  2359    0.23       56   42  49.0 -121.868715  37.318403   \n",
      "\n",
      "    Accident_Date  Accident_Time  ... MajorInjuries Involving  \\\n",
      "0      2013-01-02  14:00:00.000Z  ...             1         0   \n",
      "1      2013-01-02  18:09:00.000Z  ...             0         1   \n",
      "2      2013-01-04  05:50:00.000Z  ...             1         2   \n",
      "3      2013-01-04  17:41:00.000Z  ...             1         0   \n",
      "4      2013-01-07  02:46:00.000Z  ...             0         0   \n",
      "..            ...            ...  ...           ...       ...   \n",
      "848    2017-12-22  10:27:00.000Z  ...             1         0   \n",
      "849    2017-12-24  16:48:00.000Z  ...             0         1   \n",
      "850    2017-12-26  10:30:00.000Z  ...             1         2   \n",
      "851    2017-12-28  21:36:00.000Z  ...             1         1   \n",
      "852    2017-12-29  10:33:00.000Z  ...             1         0   \n",
      "\n",
      "                          Nearest_Intersection  SPD   LEN ACC    VOL  F85th  \\\n",
      "0                    DICKENS AV & SAMARITAN DR   35  4250  16  19900   39.0   \n",
      "1                           PATT AV & WHITE RD   35  3400  16  10250   39.0   \n",
      "2                   HILLSDALE AV & NEWBERRY DR   35  1950  14  10100   38.0   \n",
      "3            517' north of FOURTH ST & GISH RD   25  1865   1   1600   25.0   \n",
      "4             240' south of FIRST ST & REED ST   20  3250  33   4300   21.5   \n",
      "..                                         ...  ...   ...  ..    ...    ...   \n",
      "848       120' west of STOCKTON AV & TAYLOR ST   30  1900   4   4550   29.0   \n",
      "849      51' west of CURTNER AV & GUADALUPE FR   30   800   8   2250   31.0   \n",
      "850                    MONTEREY RD & PHELAN AV   25  4830  19   7950   29.5   \n",
      "851  200' north of FIRESIDE DR & WINCHESTER BL   25  2430   2   1450   28.5   \n",
      "852         323' south of ALMA AV & SEVENTH ST   30  5000  50   7900   33.3   \n",
      "\n",
      "     LOCAL  F50th  \n",
      "0        0   35.0  \n",
      "1        0   36.0  \n",
      "2        0   34.0  \n",
      "3        0   22.0  \n",
      "4        0   19.5  \n",
      "..     ...    ...  \n",
      "848      0   25.0  \n",
      "849      0   28.0  \n",
      "850      0   26.5  \n",
      "851      0   24.0  \n",
      "852      0   30.0  \n",
      "\n",
      "[853 rows x 23 columns]\n"
     ]
    }
   ],
   "source": [
    "print(dataset)"
   ]
  },
  {
   "cell_type": "code",
   "execution_count": 14,
   "metadata": {},
   "outputs": [
    {
     "name": "stdout",
     "output_type": "stream",
     "text": [
      "     Precip  Air max  min   obs   LONGITUDE   LATITUDE Accident_Date  \\\n",
      "0      0.17       58   42  50.0 -121.937379  37.250639    2013-01-02   \n",
      "1      0.17       58   42  50.0 -121.839120  37.379700    2013-01-02   \n",
      "2      0.12       58   42  50.0 -121.881171  37.274645    2013-01-04   \n",
      "3      0.12       58   42  50.0 -121.906587  37.363385    2013-01-04   \n",
      "4      0.12       58   42  50.0 -121.883632  37.326856    2013-01-07   \n",
      "..      ...      ...  ...   ...         ...        ...           ...   \n",
      "848    0.11       55   40  47.5 -121.913414  37.340647    2017-12-22   \n",
      "849    0.04       57   40  48.5 -121.873585  37.293711    2017-12-24   \n",
      "850    0.04       57   40  48.5 -121.868898  37.311358    2017-12-26   \n",
      "851    0.15       56   42  49.0 -121.950018  37.304217    2017-12-28   \n",
      "852    0.23       56   42  49.0 -121.868715  37.318403    2017-12-29   \n",
      "\n",
      "     Accident_Time       AStreet        BStreet  ...  MajorInjuries  \\\n",
      "0    14:00:00.000Z    DICKENS AV   SAMARITAN DR  ...              1   \n",
      "1    18:09:00.000Z       PATT AV       WHITE RD  ...              0   \n",
      "2    05:50:00.000Z  HILLSDALE AV    NEWBERRY DR  ...              1   \n",
      "3    17:41:00.000Z     FOURTH ST        GISH RD  ...              1   \n",
      "4    02:46:00.000Z      FIRST ST        REED ST  ...              0   \n",
      "..             ...           ...            ...  ...            ...   \n",
      "848  10:27:00.000Z   STOCKTON AV      TAYLOR ST  ...              1   \n",
      "849  16:48:00.000Z    CURTNER AV   GUADALUPE FR  ...              0   \n",
      "850  10:30:00.000Z   MONTEREY RD      PHELAN AV  ...              1   \n",
      "851  21:36:00.000Z   FIRESIDE DR  WINCHESTER BL  ...              1   \n",
      "852  10:33:00.000Z       ALMA AV     SEVENTH ST  ...              1   \n",
      "\n",
      "     Involving                       Nearest_Intersection SPD   LEN  ACC  \\\n",
      "0            0                  DICKENS AV & SAMARITAN DR  35  4250   16   \n",
      "1            1                         PATT AV & WHITE RD  35  3400   16   \n",
      "2            2                 HILLSDALE AV & NEWBERRY DR  35  1950   14   \n",
      "3            0          517' north of FOURTH ST & GISH RD  25  1865    1   \n",
      "4            0           240' south of FIRST ST & REED ST  20  3250   33   \n",
      "..         ...                                        ...  ..   ...  ...   \n",
      "848          0       120' west of STOCKTON AV & TAYLOR ST  30  1900    4   \n",
      "849          1      51' west of CURTNER AV & GUADALUPE FR  30   800    8   \n",
      "850          2                    MONTEREY RD & PHELAN AV  25  4830   19   \n",
      "851          1  200' north of FIRESIDE DR & WINCHESTER BL  25  2430    2   \n",
      "852          0         323' south of ALMA AV & SEVENTH ST  30  5000   50   \n",
      "\n",
      "       VOL  F85th  LOCAL  F50th  \n",
      "0    19900   39.0      0   35.0  \n",
      "1    10250   39.0      0   36.0  \n",
      "2    10100   38.0      0   34.0  \n",
      "3     1600   25.0      0   22.0  \n",
      "4     4300   21.5      0   19.5  \n",
      "..     ...    ...    ...    ...  \n",
      "848   4550   29.0      0   25.0  \n",
      "849   2250   31.0      0   28.0  \n",
      "850   7950   29.5      0   26.5  \n",
      "851   1450   28.5      0   24.0  \n",
      "852   7900   33.3      0   30.0  \n",
      "\n",
      "[853 rows x 21 columns]\n"
     ]
    }
   ],
   "source": [
    "dataset = dataset.drop(columns=['Date','Time'])\n",
    "print(dataset)"
   ]
  },
  {
   "cell_type": "code",
   "execution_count": 17,
   "metadata": {
    "scrolled": true
   },
   "outputs": [
    {
     "name": "stdout",
     "output_type": "stream",
     "text": [
      "    Accident_Date  Accident_Time   LONGITUDE   LATITUDE       AStreet  \\\n",
      "0      2013-01-02  14:00:00.000Z -121.937379  37.250639    DICKENS AV   \n",
      "1      2013-01-02  18:09:00.000Z -121.839120  37.379700       PATT AV   \n",
      "2      2013-01-04  05:50:00.000Z -121.881171  37.274645  HILLSDALE AV   \n",
      "3      2013-01-04  17:41:00.000Z -121.906587  37.363385     FOURTH ST   \n",
      "4      2013-01-07  02:46:00.000Z -121.883632  37.326856      FIRST ST   \n",
      "..            ...            ...         ...        ...           ...   \n",
      "848    2017-12-22  10:27:00.000Z -121.913414  37.340647   STOCKTON AV   \n",
      "849    2017-12-24  16:48:00.000Z -121.873585  37.293711    CURTNER AV   \n",
      "850    2017-12-26  10:30:00.000Z -121.868898  37.311358   MONTEREY RD   \n",
      "851    2017-12-28  21:36:00.000Z -121.950018  37.304217   FIRESIDE DR   \n",
      "852    2017-12-29  10:33:00.000Z -121.868715  37.318403       ALMA AV   \n",
      "\n",
      "           BStreet  FatalInjuries  MajorInjuries  Involving  \\\n",
      "0     SAMARITAN DR              0              1          0   \n",
      "1         WHITE RD              1              0          1   \n",
      "2      NEWBERRY DR              0              1          2   \n",
      "3          GISH RD              0              1          0   \n",
      "4          REED ST              1              0          0   \n",
      "..             ...            ...            ...        ...   \n",
      "848      TAYLOR ST              0              1          0   \n",
      "849   GUADALUPE FR              1              0          1   \n",
      "850      PHELAN AV              0              1          2   \n",
      "851  WINCHESTER BL              0              1          1   \n",
      "852     SEVENTH ST              0              1          0   \n",
      "\n",
      "                          Nearest_Intersection  ...   LEN  ACC    VOL  F85th  \\\n",
      "0                    DICKENS AV & SAMARITAN DR  ...  4250   16  19900   39.0   \n",
      "1                           PATT AV & WHITE RD  ...  3400   16  10250   39.0   \n",
      "2                   HILLSDALE AV & NEWBERRY DR  ...  1950   14  10100   38.0   \n",
      "3            517' north of FOURTH ST & GISH RD  ...  1865    1   1600   25.0   \n",
      "4             240' south of FIRST ST & REED ST  ...  3250   33   4300   21.5   \n",
      "..                                         ...  ...   ...  ...    ...    ...   \n",
      "848       120' west of STOCKTON AV & TAYLOR ST  ...  1900    4   4550   29.0   \n",
      "849      51' west of CURTNER AV & GUADALUPE FR  ...   800    8   2250   31.0   \n",
      "850                    MONTEREY RD & PHELAN AV  ...  4830   19   7950   29.5   \n",
      "851  200' north of FIRESIDE DR & WINCHESTER BL  ...  2430    2   1450   28.5   \n",
      "852         323' south of ALMA AV & SEVENTH ST  ...  5000   50   7900   33.3   \n",
      "\n",
      "     LOCAL  F50th  Precip  Air max  min   obs  \n",
      "0        0   35.0    0.17       58   42  50.0  \n",
      "1        0   36.0    0.17       58   42  50.0  \n",
      "2        0   34.0    0.12       58   42  50.0  \n",
      "3        0   22.0    0.12       58   42  50.0  \n",
      "4        0   19.5    0.12       58   42  50.0  \n",
      "..     ...    ...     ...      ...  ...   ...  \n",
      "848      0   25.0    0.11       55   40  47.5  \n",
      "849      0   28.0    0.04       57   40  48.5  \n",
      "850      0   26.5    0.04       57   40  48.5  \n",
      "851      0   24.0    0.15       56   42  49.0  \n",
      "852      0   30.0    0.23       56   42  49.0  \n",
      "\n",
      "[853 rows x 21 columns]\n"
     ]
    }
   ],
   "source": [
    "dataset = dataset[['Accident_Date','Accident_Time','LONGITUDE','LATITUDE','AStreet','BStreet',\n",
    "                                  'FatalInjuries','MajorInjuries','Involving','Nearest_Intersection','SPD','LEN',\n",
    "                                  'ACC','VOL','F85th','LOCAL','F50th','Precip','Air max','min','obs']]\n",
    "print(dataset)"
   ]
  },
  {
   "cell_type": "code",
   "execution_count": 18,
   "metadata": {},
   "outputs": [],
   "source": [
    "dataset.to_csv('dataset.csv')"
   ]
  },
  {
   "cell_type": "code",
   "execution_count": 15,
   "metadata": {},
   "outputs": [],
   "source": [
    "import pandas as pd\n",
    "dataset_v6_temp = pd.read_csv('dataset_v6_temp.csv')"
   ]
  },
  {
   "cell_type": "code",
   "execution_count": 16,
   "metadata": {},
   "outputs": [
    {
     "name": "stdout",
     "output_type": "stream",
     "text": [
      "     Accident_Date  Accident_Time   LATITUDE   LONGITUDE       AStreet  \\\n",
      "0           1/2/13  14:00:00.000Z  37.250639 -121.937379    DICKENS AV   \n",
      "1           1/2/13  18:09:00.000Z  37.379700 -121.839120       PATT AV   \n",
      "2           1/4/13  05:50:00.000Z  37.274645 -121.881171  HILLSDALE AV   \n",
      "3           1/4/13  17:41:00.000Z  37.363385 -121.906587     FOURTH ST   \n",
      "4           1/7/13  02:46:00.000Z  37.326856 -121.883632      FIRST ST   \n",
      "...            ...            ...        ...         ...           ...   \n",
      "1347        1/3/13             19  37.274337 -121.860391    NARVAEZ AV   \n",
      "1348      11/15/15             23  37.276974 -121.842055      SNELL AV   \n",
      "1349        6/4/15             18  37.308838 -121.954565       EDEN AV   \n",
      "1350       12/5/17             12  37.317303 -121.950043      TISCH WY   \n",
      "1351        1/5/16             23  37.279605 -121.823412     COYOTE RD   \n",
      "\n",
      "            BStreet  FatalInjuries  MajorInjuries  Involving  \\\n",
      "0      SAMARITAN DR              0              1          0   \n",
      "1          WHITE RD              1              0          1   \n",
      "2       NEWBERRY DR              0              1          2   \n",
      "3           GISH RD              0              1          0   \n",
      "4           REED ST              1              0          0   \n",
      "...             ...            ...            ...        ...   \n",
      "1347     CAPITOL EX              0              0          0   \n",
      "1348     CAPITOL EX              0              0          0   \n",
      "1349    WILLIAMS RD              0              0          0   \n",
      "1350  WINCHESTER BL              0              0          0   \n",
      "1351      SENTER RD              0              0          0   \n",
      "\n",
      "                   Nearest_Intersection  ...  ACC    VOL  F85th  LOCAL  F50th  \\\n",
      "0             DICKENS AV & SAMARITAN DR  ...   16  19900   39.0      0   35.0   \n",
      "1                    PATT AV & WHITE RD  ...   16  10250   39.0      0   36.0   \n",
      "2            HILLSDALE AV & NEWBERRY DR  ...   14  10100   38.0      0   34.0   \n",
      "3     517' north of FOURTH ST & GISH RD  ...    1   1600   25.0      0   22.0   \n",
      "4      240' south of FIRST ST & REED ST  ...   33   4300   21.5      0   19.5   \n",
      "...                                 ...  ...  ...    ...    ...    ...    ...   \n",
      "1347            NARVAEZ AV & CAPITOL EX  ...   28  12100   39.0      0   35.0   \n",
      "1348              SNELL AV & CAPITOL EX  ...   18  13750   43.0      0   39.0   \n",
      "1349              EDEN AV & WILLIAMS RD  ...    8   2700   34.0      0   25.0   \n",
      "1350           TISCH WY & WINCHESTER BL  ...    9   6100   37.0      0   34.0   \n",
      "1351              COYOTE RD & SENTER RD  ...   23   3100   32.0      0   28.0   \n",
      "\n",
      "      Precip  Air max  min   obs  Accident  \n",
      "0       0.17       58   42  50.0         1  \n",
      "1       0.17       58   42  50.0         1  \n",
      "2       0.12       58   42  50.0         1  \n",
      "3       0.12       58   42  50.0         1  \n",
      "4       0.12       58   42  50.0         1  \n",
      "...      ...      ...  ...   ...       ...  \n",
      "1347    0.06       58   41  49.5         0  \n",
      "1348    0.04       65   46  55.5         0  \n",
      "1349    0.01       77   55  66.0         0  \n",
      "1350    0.06       60   44  52.0         0  \n",
      "1351    0.07       57   42  49.5         0  \n",
      "\n",
      "[1352 rows x 22 columns]\n"
     ]
    }
   ],
   "source": [
    "print(dataset_v6_temp)"
   ]
  },
  {
   "cell_type": "code",
   "execution_count": 17,
   "metadata": {},
   "outputs": [],
   "source": [
    "from sklearn.utils import shuffle\n",
    "\n",
    "dataset_v6 = shuffle(dataset_v6_temp[1:])"
   ]
  },
  {
   "cell_type": "code",
   "execution_count": 18,
   "metadata": {},
   "outputs": [
    {
     "name": "stdout",
     "output_type": "stream",
     "text": [
      "     Accident_Date  Accident_Time   LATITUDE   LONGITUDE           AStreet  \\\n",
      "1198      10/10/13              7  37.243189 -121.889530       MERIDIAN AV   \n",
      "1336       4/17/16             19  37.341555 -121.891749         JULIAN ST   \n",
      "1007       1/17/17             11  37.310377 -121.931888      FRUITDALE AV   \n",
      "1090        5/9/13             18  37.250276 -121.770732        HELLYER AV   \n",
      "1120       7/26/16             16  37.363947 -121.928938   TERMINAL DR (L)   \n",
      "...            ...            ...        ...         ...               ...   \n",
      "626       10/31/16  02:04:00.000Z  37.330086 -121.881769         FOURTH ST   \n",
      "1032        2/1/17             19  37.304732 -121.907869  CAMINO RAMON (L)   \n",
      "1052       6/13/16              0  37.262181 -121.813518       EDENVIEW DR   \n",
      "694        2/23/17  11:15:00.000Z  37.290519 -121.990631       CAMPBELL AV   \n",
      "628        11/4/16  10:05:00.000Z  37.361540 -121.905223         FOURTH ST   \n",
      "\n",
      "                BStreet  FatalInjuries  MajorInjuries  Involving  \\\n",
      "1198    BLOSSOM HILL RD              0              0          0   \n",
      "1336           THIRD ST              0              0          0   \n",
      "1007          BASCOM AV              0              0          0   \n",
      "1090  SILICON VALLEY BL              0              0          0   \n",
      "1120         AIRPORT BL              0              0          0   \n",
      "...                 ...            ...            ...        ...   \n",
      "626          WILLIAM ST              0              1          2   \n",
      "1032       MINNESOTA AV              0              0          0   \n",
      "1052        MONTEREY RD              0              0          0   \n",
      "694         WESTGATE DW              1              0          1   \n",
      "628         ROSEMARY ST              0              1          0   \n",
      "\n",
      "                 Nearest_Intersection  ...  ACC    VOL  F85th  LOCAL  F50th  \\\n",
      "1198    MERIDIAN AV & BLOSSOM HILL RD  ...   17  21000   37.7      0   33.7   \n",
      "1336             JULIAN ST & THIRD ST  ...   83   7650   30.5      0   26.5   \n",
      "1007         FRUITDALE AV & BASCOM AV  ...   68  12150   37.5      0   33.5   \n",
      "1090   HELLYER AV & SILICON VALLEY BL  ...   13   4700   48.5      0   43.5   \n",
      "1120     TERMINAL DR (L) & AIRPORT BL  ...   36  10000   29.0      1   25.0   \n",
      "...                               ...  ...  ...    ...    ...    ...    ...   \n",
      "626            FOURTH ST & WILLIAM ST  ...   21   6350   26.0      0   23.0   \n",
      "1032  CAMINO RAMON (L) & MINNESOTA AV  ...    8   3500   31.0      1   25.0   \n",
      "1052        EDENVIEW DR & MONTEREY RD  ...    6   2900   28.0      0   24.0   \n",
      "694         CAMPBELL AV & WESTGATE DW  ...   53  16550   40.0      0   36.0   \n",
      "628           FOURTH ST & ROSEMARY ST  ...    1   1600   25.0      0   22.0   \n",
      "\n",
      "      Precip  Air max  min   obs  Accident  \n",
      "1198    0.03       77   53  65.0         0  \n",
      "1336    0.05       68   50  59.0         0  \n",
      "1007    0.07       59   42  50.5         0  \n",
      "1090    0.01       74   51  62.5         0  \n",
      "1120    0.00       83   58  70.5         0  \n",
      "...      ...      ...  ...   ...       ...  \n",
      "626     0.02       69   50  59.5         1  \n",
      "1032    0.02       61   43  52.0         0  \n",
      "1052    0.00       80   55  67.5         0  \n",
      "694     0.10       63   45  54.0         1  \n",
      "628     0.00       70   49  59.5         1  \n",
      "\n",
      "[1351 rows x 22 columns]\n"
     ]
    }
   ],
   "source": [
    "print(dataset_v6)"
   ]
  },
  {
   "cell_type": "code",
   "execution_count": null,
   "metadata": {},
   "outputs": [],
   "source": [
    "dataset_v6.to_csv('dataset_v6.csv')"
   ]
  }
 ],
 "metadata": {
  "kernelspec": {
   "display_name": "Python 3",
   "language": "python",
   "name": "python3"
  },
  "language_info": {
   "codemirror_mode": {
    "name": "ipython",
    "version": 3
   },
   "file_extension": ".py",
   "mimetype": "text/x-python",
   "name": "python",
   "nbconvert_exporter": "python",
   "pygments_lexer": "ipython3",
   "version": "3.7.3"
  }
 },
 "nbformat": 4,
 "nbformat_minor": 2
}
