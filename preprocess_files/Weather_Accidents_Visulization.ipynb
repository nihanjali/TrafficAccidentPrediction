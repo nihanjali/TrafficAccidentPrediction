{
 "cells": [
  {
   "cell_type": "code",
   "execution_count": 1,
   "metadata": {},
   "outputs": [],
   "source": [
    "import pandas as pd\n",
    "import matplotlib.pyplot as plt\n",
    "\n",
    "data = pd.read_csv('dataset.csv')"
   ]
  },
  {
   "cell_type": "code",
   "execution_count": 2,
   "metadata": {
    "scrolled": true
   },
   "outputs": [],
   "source": [
    "# print(data)"
   ]
  },
  {
   "cell_type": "code",
   "execution_count": 3,
   "metadata": {
    "scrolled": true
   },
   "outputs": [
    {
     "name": "stdout",
     "output_type": "stream",
     "text": [
      "{'2013-01-02': 2, '2013-01-04': 2, '2013-01-07': 1, '2013-01-15': 1, '2013-01-17': 2, '2013-01-21': 1, '2013-01-23': 1, '2013-01-24': 2, '2013-01-26': 1, '2013-01-28': 1, '2013-01-30': 1, '2013-02-04': 2, '2013-02-06': 1, '2013-02-07': 1, '2013-02-12': 1, '2013-02-13': 1, '2013-02-14': 1, '2013-02-15': 1, '2013-02-17': 1, '2013-02-24': 1, '2013-02-25': 1, '2013-02-26': 1, '2013-03-01': 2, '2013-03-04': 1, '2013-03-05': 1, '2013-03-09': 1, '2013-03-13': 3, '2013-03-19': 1, '2013-03-21': 1, '2013-03-23': 1, '2013-03-26': 1, '2013-03-27': 1, '2013-03-29': 2, '2013-03-31': 2, '2013-04-01': 1, '2013-04-03': 1, '2013-04-04': 1, '2013-04-05': 1, '2013-04-06': 1, '2013-04-08': 1, '2013-04-10': 1, '2013-04-12': 1, '2013-04-13': 1, '2013-04-14': 1, '2013-04-15': 1, '2013-04-17': 1, '2013-04-20': 1, '2013-04-24': 2, '2013-04-26': 1, '2013-04-27': 2, '2013-04-28': 1, '2013-05-01': 1, '2013-05-02': 1, '2013-05-11': 1, '2013-05-14': 1, '2013-05-16': 2, '2013-05-17': 1, '2013-05-18': 1, '2013-05-20': 3, '2013-05-22': 1, '2013-05-24': 2, '2013-05-25': 1, '2013-05-27': 1, '2013-06-04': 1, '2013-06-08': 1, '2013-06-13': 1, '2013-06-17': 2, '2013-06-22': 1, '2013-06-23': 1, '2013-06-28': 2, '2013-07-01': 1, '2013-07-04': 1, '2013-07-05': 2, '2013-07-06': 1, '2013-07-10': 1, '2013-07-18': 1, '2013-07-19': 1, '2013-07-20': 1, '2013-07-25': 1, '2013-07-28': 1, '2013-07-30': 2, '2013-08-02': 1, '2013-08-06': 1, '2013-08-07': 1, '2013-08-08': 1, '2013-08-09': 1, '2013-08-10': 1, '2013-08-12': 1, '2013-08-13': 1, '2013-08-14': 1, '2013-08-27': 1, '2013-08-30': 1, '2013-09-02': 1, '2013-09-03': 1, '2013-09-04': 2, '2013-09-06': 1, '2013-09-11': 1, '2013-09-17': 2, '2013-09-18': 1, '2013-09-22': 2, '2013-09-24': 1, '2013-09-26': 1, '2013-09-27': 1, '2013-10-05': 1, '2013-10-06': 2, '2013-10-10': 2, '2013-10-13': 1, '2013-10-15': 1, '2013-10-16': 1, '2013-10-20': 1, '2013-10-25': 1, '2013-11-08': 1, '2013-11-09': 2, '2013-11-11': 1, '2013-11-22': 2, '2013-11-24': 3, '2013-11-25': 2, '2013-11-26': 1, '2013-11-28': 1, '2013-12-01': 2, '2013-12-03': 1, '2013-12-06': 1, '2013-12-15': 2, '2013-12-16': 1, '2013-12-17': 1, '2013-12-20': 1, '2013-12-24': 2, '2013-12-29': 1, '2014-01-01': 1, '2014-01-02': 1, '2014-01-06': 1, '2014-01-07': 1, '2014-01-09': 2, '2014-01-10': 1, '2014-01-11': 1, '2014-01-12': 1, '2014-01-17': 1, '2014-01-18': 1, '2014-01-22': 2, '2014-01-25': 1, '2014-01-28': 3, '2014-02-01': 1, '2014-02-04': 1, '2014-02-05': 1, '2014-02-06': 1, '2014-02-09': 1, '2014-02-21': 1, '2014-02-25': 1, '2014-03-05': 2, '2014-03-09': 1, '2014-03-15': 1, '2014-03-16': 2, '2014-03-18': 1, '2014-03-30': 1, '2014-04-01': 1, '2014-04-05': 1, '2014-04-06': 1, '2014-04-09': 1, '2014-04-13': 1, '2014-04-17': 1, '2014-04-26': 1, '2014-04-27': 1, '2014-04-28': 1, '2014-04-29': 1, '2014-04-30': 1, '2014-05-01': 2, '2014-05-02': 1, '2014-05-16': 1, '2014-05-21': 1, '2014-06-01': 1, '2014-06-03': 1, '2014-06-05': 1, '2014-06-11': 1, '2014-06-15': 1, '2014-06-16': 1, '2014-06-20': 1, '2014-06-22': 1, '2014-06-23': 1, '2014-06-27': 1, '2014-06-29': 1, '2014-07-03': 1, '2014-07-09': 1, '2014-07-15': 1, '2014-07-17': 1, '2014-07-21': 1, '2014-07-22': 1, '2014-07-26': 1, '2014-07-29': 1, '2014-08-01': 1, '2014-08-04': 1, '2014-08-08': 1, '2014-08-16': 1, '2014-08-17': 2, '2014-08-18': 1, '2014-08-20': 1, '2014-08-26': 1, '2014-08-28': 2, '2014-08-30': 1, '2014-08-31': 1, '2014-09-03': 1, '2014-09-05': 1, '2014-09-11': 1, '2014-09-14': 1, '2014-09-16': 3, '2014-09-17': 1, '2014-09-22': 1, '2014-09-24': 1, '2014-09-28': 1, '2014-10-01': 1, '2014-10-02': 1, '2014-10-03': 2, '2014-10-04': 1, '2014-10-10': 1, '2014-10-13': 2, '2014-10-15': 1, '2014-10-17': 1, '2014-10-24': 2, '2014-10-26': 1, '2014-10-30': 2, '2014-10-31': 1, '2014-11-04': 1, '2014-11-09': 1, '2014-11-11': 2, '2014-11-16': 1, '2014-11-17': 1, '2014-11-18': 1, '2014-11-19': 1, '2014-11-24': 2, '2014-11-25': 1, '2014-12-05': 1, '2014-12-13': 1, '2014-12-14': 1, '2014-12-16': 3, '2014-12-23': 1, '2014-12-24': 1, '2014-12-28': 1, '2014-12-29': 2, '2015-01-04': 1, '2015-01-08': 3, '2015-01-09': 1, '2015-01-16': 1, '2015-01-18': 1, '2015-01-23': 3, '2015-01-26': 1, '2015-01-28': 2, '2015-01-31': 1, '2015-02-01': 1, '2015-02-02': 1, '2015-02-07': 1, '2015-02-10': 2, '2015-02-12': 1, '2015-02-13': 2, '2015-02-21': 1, '2015-02-25': 1, '2015-02-28': 3, '2015-03-01': 1, '2015-03-02': 1, '2015-03-07': 1, '2015-03-13': 1, '2015-03-16': 1, '2015-03-19': 3, '2015-03-20': 2, '2015-03-24': 2, '2015-03-25': 1, '2015-03-28': 1, '2015-04-06': 2, '2015-04-07': 1, '2015-04-08': 1, '2015-04-09': 1, '2015-04-10': 1, '2015-04-15': 2, '2015-04-17': 1, '2015-04-18': 1, '2015-04-20': 1, '2015-04-23': 1, '2015-04-26': 1, '2015-04-29': 1, '2015-05-05': 1, '2015-05-08': 1, '2015-05-10': 1, '2015-05-19': 1, '2015-05-21': 2, '2015-05-27': 1, '2015-05-29': 1, '2015-06-03': 1, '2015-06-04': 1, '2015-06-06': 1, '2015-06-08': 2, '2015-06-10': 1, '2015-06-17': 2, '2015-06-18': 1, '2015-06-19': 1, '2015-06-20': 1, '2015-06-21': 1, '2015-06-28': 1, '2015-07-01': 1, '2015-07-05': 1, '2015-07-07': 1, '2015-07-08': 1, '2015-07-10': 1, '2015-07-14': 1, '2015-07-18': 2, '2015-07-25': 2, '2015-07-27': 1, '2015-08-02': 1, '2015-08-05': 1, '2015-08-06': 2, '2015-08-08': 1, '2015-08-10': 1, '2015-08-15': 1, '2015-08-19': 1, '2015-08-20': 1, '2015-08-21': 1, '2015-08-22': 3, '2015-08-23': 1, '2015-08-27': 1, '2015-08-31': 2, '2015-09-04': 1, '2015-09-07': 3, '2015-09-11': 1, '2015-09-13': 1, '2015-09-20': 1, '2015-09-25': 2, '2015-09-29': 2, '2015-10-03': 1, '2015-10-04': 1, '2015-10-05': 1, '2015-10-10': 1, '2015-10-11': 3, '2015-10-12': 1, '2015-10-13': 3, '2015-10-17': 1, '2015-10-21': 1, '2015-10-28': 1, '2015-10-29': 1, '2015-10-31': 2, '2015-11-01': 1, '2015-11-02': 1, '2015-11-03': 1, '2015-11-04': 1, '2015-11-05': 1, '2015-11-07': 2, '2015-11-08': 1, '2015-11-09': 1, '2015-11-10': 1, '2015-11-13': 1, '2015-11-14': 1, '2015-11-18': 1, '2015-11-20': 1, '2015-11-21': 1, '2015-11-22': 2, '2015-11-27': 1, '2015-12-03': 1, '2015-12-07': 2, '2015-12-10': 1, '2015-12-11': 2, '2015-12-12': 3, '2015-12-14': 1, '2015-12-15': 3, '2015-12-18': 2, '2015-12-19': 3, '2015-12-21': 1, '2015-12-22': 1, '2015-12-23': 1, '2015-12-25': 1, '2015-12-26': 1, '2015-12-27': 1, '2016-01-02': 1, '2016-01-04': 1, '2016-01-12': 1, '2016-01-15': 2, '2016-01-17': 1, '2016-01-22': 1, '2016-01-23': 1, '2016-01-25': 1, '2016-01-27': 1, '2016-01-28': 1, '2016-01-30': 1, '2016-02-07': 1, '2016-02-09': 2, '2016-02-10': 1, '2016-02-11': 1, '2016-02-12': 3, '2016-02-13': 1, '2016-02-19': 1, '2016-02-20': 3, '2016-02-25': 1, '2016-02-26': 1, '2016-02-27': 1, '2016-02-28': 2, '2016-02-29': 2, '2016-03-04': 1, '2016-03-05': 2, '2016-03-06': 1, '2016-03-07': 1, '2016-03-08': 1, '2016-03-15': 1, '2016-03-18': 2, '2016-03-23': 1, '2016-03-27': 1, '2016-03-29': 1, '2016-04-03': 1, '2016-04-05': 1, '2016-04-06': 1, '2016-04-09': 1, '2016-04-12': 2, '2016-04-16': 2, '2016-04-17': 2, '2016-04-20': 1, '2016-05-01': 2, '2016-05-03': 1, '2016-05-08': 2, '2016-05-12': 1, '2016-05-14': 1, '2016-05-15': 3, '2016-05-17': 1, '2016-05-18': 1, '2016-05-20': 1, '2016-05-27': 1, '2016-05-29': 1, '2016-05-31': 2, '2016-06-01': 1, '2016-06-02': 1, '2016-06-08': 1, '2016-06-10': 1, '2016-06-11': 1, '2016-06-14': 3, '2016-06-16': 2, '2016-06-20': 1, '2016-06-28': 1, '2016-06-30': 1, '2016-07-01': 1, '2016-07-03': 1, '2016-07-04': 2, '2016-07-06': 1, '2016-07-09': 1, '2016-07-10': 1, '2016-07-11': 2, '2016-07-15': 2, '2016-07-16': 2, '2016-07-17': 1, '2016-07-19': 1, '2016-07-20': 1, '2016-07-21': 1, '2016-07-23': 1, '2016-07-24': 2, '2016-07-27': 1, '2016-07-30': 2, '2016-08-03': 2, '2016-08-04': 1, '2016-08-05': 1, '2016-08-06': 1, '2016-08-07': 1, '2016-08-09': 1, '2016-08-14': 1, '2016-08-15': 1, '2016-08-16': 1, '2016-08-24': 1, '2016-08-27': 1, '2016-08-28': 3, '2016-09-02': 1, '2016-09-05': 3, '2016-09-11': 2, '2016-09-12': 1, '2016-09-14': 2, '2016-09-15': 1, '2016-09-20': 2, '2016-09-22': 1, '2016-09-24': 1, '2016-09-29': 1, '2016-09-30': 1, '2016-10-02': 2, '2016-10-03': 1, '2016-10-06': 1, '2016-10-07': 1, '2016-10-08': 1, '2016-10-12': 1, '2016-10-13': 1, '2016-10-14': 1, '2016-10-15': 2, '2016-10-17': 1, '2016-10-18': 1, '2016-10-19': 1, '2016-10-20': 1, '2016-10-21': 1, '2016-10-23': 1, '2016-10-25': 1, '2016-10-27': 1, '2016-10-28': 1, '2016-10-29': 1, '2016-10-30': 2, '2016-10-31': 1, '2016-11-01': 1, '2016-11-04': 2, '2016-11-05': 1, '2016-11-10': 1, '2016-11-11': 4, '2016-11-12': 1, '2016-11-14': 1, '2016-11-15': 1, '2016-11-17': 1, '2016-11-18': 2, '2016-11-19': 1, '2016-11-29': 1, '2016-12-01': 1, '2016-12-03': 2, '2016-12-05': 1, '2016-12-06': 1, '2016-12-07': 1, '2016-12-08': 2, '2016-12-09': 1, '2016-12-10': 2, '2016-12-11': 2, '2016-12-12': 1, '2016-12-17': 1, '2016-12-21': 1, '2016-12-25': 1, '2016-12-27': 1, '2016-12-28': 1, '2016-12-29': 1, '2017-01-02': 1, '2017-01-03': 1, '2017-01-08': 1, '2017-01-12': 1, '2017-01-16': 1, '2017-01-17': 1, '2017-01-18': 1, '2017-01-21': 1, '2017-01-23': 1, '2017-01-24': 1, '2017-01-25': 1, '2017-01-26': 1, '2017-01-28': 2, '2017-01-31': 1, '2017-02-01': 1, '2017-02-03': 2, '2017-02-04': 1, '2017-02-06': 1, '2017-02-10': 1, '2017-02-12': 2, '2017-02-14': 1, '2017-02-15': 1, '2017-02-16': 1, '2017-02-18': 1, '2017-02-20': 1, '2017-02-21': 2, '2017-02-23': 1, '2017-02-26': 1, '2017-02-28': 2, '2017-03-04': 1, '2017-03-05': 1, '2017-03-08': 1, '2017-03-09': 1, '2017-03-12': 1, '2017-03-13': 1, '2017-03-16': 1, '2017-03-17': 2, '2017-03-21': 2, '2017-03-23': 3, '2017-03-26': 1, '2017-03-28': 1, '2017-03-31': 2, '2017-04-03': 2, '2017-04-04': 2, '2017-04-05': 1, '2017-04-07': 1, '2017-04-08': 2, '2017-04-10': 1, '2017-04-12': 1, '2017-04-14': 1, '2017-04-15': 1, '2017-04-18': 1, '2017-04-19': 1, '2017-04-23': 1, '2017-04-26': 1, '2017-04-27': 1, '2017-04-28': 1, '2017-05-01': 2, '2017-05-02': 1, '2017-05-04': 2, '2017-05-08': 2, '2017-05-12': 1, '2017-05-17': 1, '2017-05-18': 2, '2017-05-21': 1, '2017-05-24': 1, '2017-05-25': 1, '2017-05-28': 1, '2017-06-03': 1, '2017-06-06': 1, '2017-06-09': 1, '2017-06-11': 1, '2017-06-12': 1, '2017-06-16': 1, '2017-06-19': 1, '2017-06-20': 1, '2017-06-21': 1, '2017-06-22': 1, '2017-06-23': 1, '2017-06-25': 1, '2017-06-27': 1, '2017-06-30': 1, '2017-07-01': 1, '2017-07-04': 1, '2017-07-05': 1, '2017-07-08': 2, '2017-07-09': 1, '2017-07-10': 1, '2017-07-13': 1, '2017-07-17': 1, '2017-07-25': 1, '2017-07-27': 1, '2017-07-28': 2, '2017-07-29': 1, '2017-07-30': 2, '2017-08-02': 1, '2017-08-04': 1, '2017-08-06': 1, '2017-08-11': 1, '2017-08-14': 2, '2017-08-15': 1, '2017-08-19': 2, '2017-08-20': 1, '2017-08-23': 2, '2017-08-26': 1, '2017-08-30': 1, '2017-08-31': 1, '2017-09-07': 1, '2017-09-11': 2, '2017-09-15': 3, '2017-09-16': 1, '2017-09-18': 1, '2017-09-19': 1, '2017-09-20': 2, '2017-09-21': 1, '2017-09-22': 1, '2017-09-26': 1, '2017-09-27': 1, '2017-10-02': 1, '2017-10-04': 1, '2017-10-05': 3, '2017-10-06': 1, '2017-10-09': 2, '2017-10-11': 1, '2017-10-12': 1, '2017-10-13': 1, '2017-10-14': 2, '2017-10-17': 1, '2017-10-28': 1, '2017-10-29': 1, '2017-10-31': 1, '2017-11-06': 1, '2017-11-07': 1, '2017-11-12': 1, '2017-11-20': 1, '2017-11-24': 1, '2017-11-25': 1, '2017-12-03': 1, '2017-12-04': 1, '2017-12-05': 1, '2017-12-08': 2, '2017-12-11': 1, '2017-12-12': 1, '2017-12-14': 1, '2017-12-16': 2, '2017-12-17': 1, '2017-12-18': 1, '2017-12-20': 1, '2017-12-21': 3, '2017-12-22': 1, '2017-12-24': 1, '2017-12-26': 1, '2017-12-28': 1, '2017-12-29': 1}\n"
     ]
    }
   ],
   "source": [
    "# Accident count on days\n",
    "accident = {}\n",
    "for row in data['Accident_Date']:\n",
    "    if row in accident:\n",
    "        accident[row] += 1\n",
    "    else:\n",
    "        accident[row] = 1\n",
    "        \n",
    "print(accident)"
   ]
  },
  {
   "cell_type": "code",
   "execution_count": 4,
   "metadata": {},
   "outputs": [
    {
     "name": "stdout",
     "output_type": "stream",
     "text": [
      "happened 1 accident a day: 524 days\n",
      "happened 2 accidents a day: 122 days\n",
      "happened more than 2 accidents a day: 28 days\n"
     ]
    }
   ],
   "source": [
    "hap1 = []\n",
    "hap2 = []\n",
    "hap_more = []\n",
    "for row in accident:\n",
    "    if accident[row] == 1:\n",
    "        hap1.append(row)\n",
    "    elif accident[row] == 2:\n",
    "        hap2.append(row)\n",
    "    else:\n",
    "        hap_more.append(row)\n",
    "        \n",
    "print(\"happened 1 accident a day:\",len(hap1), \"days\")\n",
    "print(\"happened 2 accidents a day:\",len(hap2), \"days\")\n",
    "print(\"happened more than 2 accidents a day:\",len(hap_more), \"days\")"
   ]
  },
  {
   "cell_type": "code",
   "execution_count": 5,
   "metadata": {},
   "outputs": [],
   "source": [
    "weather_accident = pd.DataFrame(columns = [\"Accident_Date\",\"Precip\",\"obs\",\"rainfall\",\"feel\",\"count\"])"
   ]
  },
  {
   "cell_type": "code",
   "execution_count": 6,
   "metadata": {},
   "outputs": [],
   "source": [
    "# Precip and Obs dict\n",
    "precip = {}\n",
    "obs = {}\n",
    "for i in range(len(data)):\n",
    "    a = data['Accident_Date'][i]\n",
    "    if a not in precip:\n",
    "        precip[a] = data['Precip'][i]\n",
    "    if a not in obs:\n",
    "        obs[a] = data['obs'][i]"
   ]
  },
  {
   "cell_type": "code",
   "execution_count": 7,
   "metadata": {},
   "outputs": [],
   "source": [
    "#fill in Accident_data and count\n",
    "weather_accident['Accident_Date'] = accident.keys()\n",
    "for i in range(len(weather_accident)):\n",
    "    key = weather_accident['Accident_Date'][i]\n",
    "    if accident[key]:\n",
    "        weather_accident['count'][i] = accident[key]\n",
    "        weather_accident['Precip'][i] = precip[key]\n",
    "        weather_accident['obs'][i] = obs[key]"
   ]
  },
  {
   "cell_type": "code",
   "execution_count": 8,
   "metadata": {},
   "outputs": [],
   "source": [
    "for i in range(len(weather_accident)):\n",
    "    precip = weather_accident['Precip'][i]\n",
    "    if precip > 2:\n",
    "        weather_accident['rainfall'][i] = \"violent rain\"\n",
    "    elif precip > 0.3:\n",
    "        weather_accident['rainfall'][i] = \"heavy rain\"\n",
    "    elif precip > 0.098:\n",
    "        weather_accident['rainfall'][i] = \"moderate rain\"\n",
    "    else:\n",
    "        weather_accident['rainfall'][i] = \"light rain\""
   ]
  },
  {
   "cell_type": "code",
   "execution_count": 9,
   "metadata": {},
   "outputs": [],
   "source": [
    "for i in range(len(weather_accident)):\n",
    "    temp = weather_accident['obs'][i]\n",
    "    if temp > 122 :\n",
    "        weather_accident['feel'][i] = \"extremely hot\"\n",
    "    elif temp > 98.6:\n",
    "        weather_accident['feel'][i] = \"very hot\"\n",
    "    elif temp > 77:\n",
    "        weather_accident['feel'][i] = \"hot\"\n",
    "    elif temp > 68:\n",
    "        weather_accident['feel'][i] = \"warm\"\n",
    "    elif temp > 59:\n",
    "        weather_accident['feel'][i] = \"cool\"\n",
    "    elif temp > 32:\n",
    "        weather_accident['feel'][i] = \"cold\"\n",
    "    else:\n",
    "        weather_accident['feel'][i] = \"ice/freezes\""
   ]
  },
  {
   "cell_type": "code",
   "execution_count": 10,
   "metadata": {},
   "outputs": [
    {
     "name": "stdout",
     "output_type": "stream",
     "text": [
      "    Accident_Date Precip   obs       rainfall  feel count\n",
      "0      2013-01-02   0.17    50  moderate rain  cold     2\n",
      "1      2013-01-04   0.12    50  moderate rain  cold     2\n",
      "2      2013-01-07   0.12    50  moderate rain  cold     1\n",
      "3      2013-01-15   0.08    50     light rain  cold     1\n",
      "4      2013-01-17   0.07  50.5     light rain  cold     2\n",
      "..            ...    ...   ...            ...   ...   ...\n",
      "669    2017-12-22   0.11  47.5  moderate rain  cold     1\n",
      "670    2017-12-24   0.04  48.5     light rain  cold     1\n",
      "671    2017-12-26   0.04  48.5     light rain  cold     1\n",
      "672    2017-12-28   0.15    49  moderate rain  cold     1\n",
      "673    2017-12-29   0.23    49  moderate rain  cold     1\n",
      "\n",
      "[674 rows x 6 columns]\n"
     ]
    }
   ],
   "source": [
    "print(weather_accident)"
   ]
  },
  {
   "cell_type": "code",
   "execution_count": 11,
   "metadata": {},
   "outputs": [
    {
     "data": {
      "text/plain": [
       "Text(0, 0.5, 'Frequency')"
      ]
     },
     "execution_count": 11,
     "metadata": {},
     "output_type": "execute_result"
    },
    {
     "data": {
      "image/png": "[encoded data removed]",
      "text/plain": [
       "<Figure size 432x288 with 1 Axes>"
      ]
     },
     "metadata": {
      "needs_background": "light"
     },
     "output_type": "display_data"
    }
   ],
   "source": [
    "import numpy as np\n",
    "import matplotlib.pyplot as plt\n",
    "\n",
    "# create a figure and axis \n",
    "fig, ax = plt.subplots() \n",
    "# count the occurrence of each class \n",
    "data = weather_accident['rainfall'].value_counts()\n",
    "# get x and y data \n",
    "points = data.index \n",
    "frequency = data.values \n",
    "# create bar chart \n",
    "ax.bar(points, frequency) \n",
    "# set title and labels \n",
    "ax.set_title('RainFall vs. Accidents') \n",
    "ax.set_xlabel('Rainfall') \n",
    "ax.set_ylabel('Frequency')"
   ]
  },
  {
   "cell_type": "code",
   "execution_count": 12,
   "metadata": {},
   "outputs": [
    {
     "data": {
      "text/plain": [
       "Text(0, 0.5, 'Frequency')"
      ]
     },
     "execution_count": 12,
     "metadata": {},
     "output_type": "execute_result"
    },
    {
     "data": {
      "image/png": "[encoded data removed]",
      "text/plain": [
       "<Figure size 432x288 with 1 Axes>"
      ]
     },
     "metadata": {
      "needs_background": "light"
     },
     "output_type": "display_data"
    }
   ],
   "source": [
    "# create a figure and axis \n",
    "fig, ax = plt.subplots() \n",
    "# count the occurrence of each class \n",
    "data = weather_accident['feel'].value_counts()\n",
    "# get x and y data \n",
    "points = data.index \n",
    "frequency = data.values \n",
    "# create bar chart \n",
    "ax.bar(points, frequency) \n",
    "# set title and labels \n",
    "ax.set_title('Weather vs. Accidents') \n",
    "ax.set_xlabel('Feels') \n",
    "ax.set_ylabel('Frequency')"
   ]
  },
  {
   "cell_type": "code",
   "execution_count": 13,
   "metadata": {},
   "outputs": [
    {
     "name": "stdout",
     "output_type": "stream",
     "text": [
      "    Accident_Date Precip   obs       rainfall  feel count\n",
      "0      2013-01-02   0.17    50  moderate rain  cold     2\n",
      "1      2013-01-04   0.12    50  moderate rain  cold     2\n",
      "2      2013-01-07   0.12    50  moderate rain  cold     1\n",
      "3      2013-01-15   0.08    50     light rain  cold     1\n",
      "4      2013-01-17   0.07  50.5     light rain  cold     2\n",
      "..            ...    ...   ...            ...   ...   ...\n",
      "669    2017-12-22   0.11  47.5  moderate rain  cold     1\n",
      "670    2017-12-24   0.04  48.5     light rain  cold     1\n",
      "671    2017-12-26   0.04  48.5     light rain  cold     1\n",
      "672    2017-12-28   0.15    49  moderate rain  cold     1\n",
      "673    2017-12-29   0.23    49  moderate rain  cold     1\n",
      "\n",
      "[674 rows x 6 columns]\n"
     ]
    }
   ],
   "source": [
    "print(weather_accident)"
   ]
  },
  {
   "cell_type": "code",
   "execution_count": 14,
   "metadata": {},
   "outputs": [],
   "source": [
    "hap1_rainfall_list = []\n",
    "hap2_rainfall_list = []\n",
    "a_rainfall_list = []\n",
    "\n",
    "for i in range(len(weather_accident)):\n",
    "    count =  weather_accident['count'][i]\n",
    "    if count == 1:\n",
    "        hap1_rainfall_list.append(weather_accident['rainfall'][i])\n",
    "    elif count == 2:\n",
    "        hap2_rainfall_list.append(weather_accident['rainfall'][i])\n",
    "    else:\n",
    "        a_rainfall_list.append(weather_accident['rainfall'][i])"
   ]
  },
  {
   "cell_type": "code",
   "execution_count": 15,
   "metadata": {},
   "outputs": [
    {
     "data": {
      "text/plain": [
       "Text(0.5, 1.0, 'Most likely to have 1 accident')"
      ]
     },
     "execution_count": 15,
     "metadata": {},
     "output_type": "execute_result"
    },
    {
     "data": {
      "image/png": "[encoded data removed]",
      "text/plain": [
       "<Figure size 432x288 with 1 Axes>"
      ]
     },
     "metadata": {
      "needs_background": "light"
     },
     "output_type": "display_data"
    }
   ],
   "source": [
    "import seaborn as sns\n",
    "sns.countplot(hap1_rainfall_list).set_title(\"Most likely to have 1 accident\")"
   ]
  },
  {
   "cell_type": "code",
   "execution_count": 16,
   "metadata": {},
   "outputs": [
    {
     "data": {
      "text/plain": [
       "Text(0.5, 1.0, 'Most likely to have 2 accidents')"
      ]
     },
     "execution_count": 16,
     "metadata": {},
     "output_type": "execute_result"
    },
    {
     "data": {
      "image/png": "[encoded data removed]",
      "text/plain": [
       "<Figure size 432x288 with 1 Axes>"
      ]
     },
     "metadata": {
      "needs_background": "light"
     },
     "output_type": "display_data"
    }
   ],
   "source": [
    "sns.countplot(hap2_rainfall_list).set_title(\"Most likely to have 2 accidents\")"
   ]
  },
  {
   "cell_type": "code",
   "execution_count": 17,
   "metadata": {},
   "outputs": [
    {
     "data": {
      "text/plain": [
       "Text(0.5, 1.0, 'Most likely to have more than 2 accident')"
      ]
     },
     "execution_count": 17,
     "metadata": {},
     "output_type": "execute_result"
    },
    {
     "data": {
      "image/png": "[encoded data removed]",
      "text/plain": [
       "<Figure size 432x288 with 1 Axes>"
      ]
     },
     "metadata": {
      "needs_background": "light"
     },
     "output_type": "display_data"
    }
   ],
   "source": [
    "sns.countplot(a_rainfall_list).set_title(\"Most likely to have more than 2 accident\")"
   ]
  },
  {
   "cell_type": "code",
   "execution_count": 19,
   "metadata": {},
   "outputs": [],
   "source": [
    "hap1_weather_list = []\n",
    "hap2_weather_list = []\n",
    "a_weather_list = []\n",
    "\n",
    "for i in range(len(weather_accident)):\n",
    "    count =  weather_accident['count'][i]\n",
    "    if count == 1:\n",
    "        hap1_weather_list.append(weather_accident['feel'][i])\n",
    "    elif count == 2:\n",
    "        hap2_weather_list.append(weather_accident['feel'][i])\n",
    "    else:\n",
    "        a_weather_list.append(weather_accident['feel'][i])"
   ]
  },
  {
   "cell_type": "code",
   "execution_count": 20,
   "metadata": {},
   "outputs": [
    {
     "data": {
      "text/plain": [
       "Text(0.5, 1.0, 'Most likely to have 1 accident')"
      ]
     },
     "execution_count": 20,
     "metadata": {},
     "output_type": "execute_result"
    },
    {
     "data": {
      "image/png": "[encoded data removed]",
      "text/plain": [
       "<Figure size 432x288 with 1 Axes>"
      ]
     },
     "metadata": {
      "needs_background": "light"
     },
     "output_type": "display_data"
    }
   ],
   "source": [
    "sns.countplot(hap1_weather_list).set_title(\"Most likely to have 1 accident\")"
   ]
  },
  {
   "cell_type": "code",
   "execution_count": 21,
   "metadata": {
    "scrolled": true
   },
   "outputs": [
    {
     "data": {
      "text/plain": [
       "Text(0.5, 1.0, 'Most likely to have 2 accidents')"
      ]
     },
     "execution_count": 21,
     "metadata": {},
     "output_type": "execute_result"
    },
    {
     "data": {
      "image/png": "[encoded data removed]",
      "text/plain": [
       "<Figure size 432x288 with 1 Axes>"
      ]
     },
     "metadata": {
      "needs_background": "light"
     },
     "output_type": "display_data"
    }
   ],
   "source": [
    "sns.countplot(hap2_weather_list).set_title(\"Most likely to have 2 accidents\")"
   ]
  },
  {
   "cell_type": "code",
   "execution_count": 22,
   "metadata": {
    "scrolled": true
   },
   "outputs": [
    {
     "data": {
      "text/plain": [
       "Text(0.5, 1.0, 'Most likely to have more than 2 accidents')"
      ]
     },
     "execution_count": 22,
     "metadata": {},
     "output_type": "execute_result"
    },
    {
     "data": {
      "image/png": "[encoded data removed]",
      "text/plain": [
       "<Figure size 432x288 with 1 Axes>"
      ]
     },
     "metadata": {
      "needs_background": "light"
     },
     "output_type": "display_data"
    }
   ],
   "source": [
    "sns.countplot(a_weather_list).set_title(\"Most likely to have more than 2 accidents\")"
   ]
  },
  {
   "cell_type": "code",
   "execution_count": null,
   "metadata": {},
   "outputs": [],
   "source": []
  },
  {
   "cell_type": "code",
   "execution_count": null,
   "metadata": {},
   "outputs": [],
   "source": []
  },
  {
   "cell_type": "code",
   "execution_count": null,
   "metadata": {},
   "outputs": [],
   "source": []
  },
  {
   "cell_type": "code",
   "execution_count": null,
   "metadata": {},
   "outputs": [],
   "source": []
  },
  {
   "cell_type": "code",
   "execution_count": null,
   "metadata": {},
   "outputs": [],
   "source": []
  }
 ],
 "metadata": {
  "kernelspec": {
   "display_name": "Python 3",
   "language": "python",
   "name": "python3"
  },
  "language_info": {
   "codemirror_mode": {
    "name": "ipython",
    "version": 3
   },
   "file_extension": ".py",
   "mimetype": "text/x-python",
   "name": "python",
   "nbconvert_exporter": "python",
   "pygments_lexer": "ipython3",
   "version": "3.7.3"
  }
 },
 "nbformat": 4,
 "nbformat_minor": 2
}
