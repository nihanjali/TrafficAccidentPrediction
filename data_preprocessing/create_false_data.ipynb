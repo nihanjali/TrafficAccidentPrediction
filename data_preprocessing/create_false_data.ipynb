{
 "cells": [
  {
   "cell_type": "code",
   "execution_count": 1,
   "metadata": {},
   "outputs": [],
   "source": [
    "import pandas as pd\n",
    "from pandas import DataFrame\n",
    "import numpy as np\n",
    "import datetime\n",
    "import random\n",
    "from datetime import datetime\n",
    "pd.set_option('display.max_columns', 500)"
   ]
  },
  {
   "cell_type": "code",
   "execution_count": 2,
   "metadata": {},
   "outputs": [],
   "source": [
    "dataset = pd.read_csv('dataset.csv')"
   ]
  },
  {
   "cell_type": "code",
   "execution_count": 3,
   "metadata": {},
   "outputs": [
    {
     "name": "stdout",
     "output_type": "stream",
     "text": [
      "<class 'pandas.core.frame.DataFrame'>\n",
      "RangeIndex: 853 entries, 0 to 852\n",
      "Data columns (total 22 columns):\n",
      "Unnamed: 0              853 non-null int64\n",
      "Accident_Date           853 non-null object\n",
      "Accident_Time           853 non-null object\n",
      "LONGITUDE               853 non-null float64\n",
      "LATITUDE                853 non-null float64\n",
      "AStreet                 853 non-null object\n",
      "BStreet                 853 non-null object\n",
      "FatalInjuries           853 non-null int64\n",
      "MajorInjuries           853 non-null int64\n",
      "Involving               853 non-null int64\n",
      "Nearest_Intersection    853 non-null object\n",
      "SPD                     853 non-null int64\n",
      "LEN                     853 non-null int64\n",
      "ACC                     853 non-null int64\n",
      "VOL                     853 non-null int64\n",
      "F85th                   853 non-null float64\n",
      "LOCAL                   853 non-null int64\n",
      "F50th                   853 non-null float64\n",
      "Precip                  853 non-null float64\n",
      "Air max                 853 non-null int64\n",
      "min                     853 non-null int64\n",
      "obs                     853 non-null float64\n",
      "dtypes: float64(6), int64(11), object(5)\n",
      "memory usage: 146.7+ KB\n"
     ]
    }
   ],
   "source": [
    "dataset.info()"
   ]
  },
  {
   "cell_type": "code",
   "execution_count": 4,
   "metadata": {},
   "outputs": [
    {
     "data": {
      "text/plain": [
       "(853, 22)"
      ]
     },
     "execution_count": 4,
     "metadata": {},
     "output_type": "execute_result"
    }
   ],
   "source": [
    "dataset.shape"
   ]
  },
  {
   "cell_type": "code",
   "execution_count": 5,
   "metadata": {},
   "outputs": [
    {
     "data": {
      "text/html": [
       "<div>\n",
       "<style scoped>\n",
       "    .dataframe tbody tr th:only-of-type {\n",
       "        vertical-align: middle;\n",
       "    }\n",
       "\n",
       "    .dataframe tbody tr th {\n",
       "        vertical-align: top;\n",
       "    }\n",
       "\n",
       "    .dataframe thead th {\n",
       "        text-align: right;\n",
       "    }\n",
       "</style>\n",
       "<table border=\"1\" class=\"dataframe\">\n",
       "  <thead>\n",
       "    <tr style=\"text-align: right;\">\n",
       "      <th></th>\n",
       "      <th>Unnamed: 0</th>\n",
       "      <th>Accident_Date</th>\n",
       "      <th>Accident_Time</th>\n",
       "      <th>LONGITUDE</th>\n",
       "      <th>LATITUDE</th>\n",
       "      <th>AStreet</th>\n",
       "      <th>BStreet</th>\n",
       "      <th>FatalInjuries</th>\n",
       "      <th>MajorInjuries</th>\n",
       "      <th>Involving</th>\n",
       "      <th>Nearest_Intersection</th>\n",
       "      <th>SPD</th>\n",
       "      <th>LEN</th>\n",
       "      <th>ACC</th>\n",
       "      <th>VOL</th>\n",
       "      <th>F85th</th>\n",
       "      <th>LOCAL</th>\n",
       "      <th>F50th</th>\n",
       "      <th>Precip</th>\n",
       "      <th>Air max</th>\n",
       "      <th>min</th>\n",
       "      <th>obs</th>\n",
       "    </tr>\n",
       "  </thead>\n",
       "  <tbody>\n",
       "    <tr>\n",
       "      <th>0</th>\n",
       "      <td>0</td>\n",
       "      <td>2013-01-02</td>\n",
       "      <td>14:00:00.000Z</td>\n",
       "      <td>-121.93738</td>\n",
       "      <td>37.250639</td>\n",
       "      <td>DICKENS AV</td>\n",
       "      <td>SAMARITAN DR</td>\n",
       "      <td>0</td>\n",
       "      <td>1</td>\n",
       "      <td>0</td>\n",
       "      <td>DICKENS AV &amp; SAMARITAN DR</td>\n",
       "      <td>35</td>\n",
       "      <td>4250</td>\n",
       "      <td>16</td>\n",
       "      <td>19900</td>\n",
       "      <td>39.0</td>\n",
       "      <td>0</td>\n",
       "      <td>35.0</td>\n",
       "      <td>0.17</td>\n",
       "      <td>58</td>\n",
       "      <td>42</td>\n",
       "      <td>50.0</td>\n",
       "    </tr>\n",
       "  </tbody>\n",
       "</table>\n",
       "</div>"
      ],
      "text/plain": [
       "   Unnamed: 0 Accident_Date  Accident_Time  LONGITUDE   LATITUDE     AStreet  \\\n",
       "0           0    2013-01-02  14:00:00.000Z -121.93738  37.250639  DICKENS AV   \n",
       "\n",
       "        BStreet  FatalInjuries  MajorInjuries  Involving  \\\n",
       "0  SAMARITAN DR              0              1          0   \n",
       "\n",
       "        Nearest_Intersection  SPD   LEN  ACC    VOL  F85th  LOCAL  F50th  \\\n",
       "0  DICKENS AV & SAMARITAN DR   35  4250   16  19900   39.0      0   35.0   \n",
       "\n",
       "   Precip  Air max  min   obs  \n",
       "0    0.17       58   42  50.0  "
      ]
     },
     "execution_count": 5,
     "metadata": {},
     "output_type": "execute_result"
    }
   ],
   "source": [
    "dataset.head(1)"
   ]
  },
  {
   "cell_type": "code",
   "execution_count": 6,
   "metadata": {
    "scrolled": true
   },
   "outputs": [
    {
     "data": {
      "text/plain": [
       "Index(['Unnamed: 0', 'Accident_Date', 'Accident_Time', 'LONGITUDE', 'LATITUDE',\n",
       "       'AStreet', 'BStreet', 'FatalInjuries', 'MajorInjuries', 'Involving',\n",
       "       'Nearest_Intersection', 'SPD', 'LEN', 'ACC', 'VOL', 'F85th', 'LOCAL',\n",
       "       'F50th', 'Precip', 'Air max', 'min', 'obs'],\n",
       "      dtype='object')"
      ]
     },
     "execution_count": 6,
     "metadata": {},
     "output_type": "execute_result"
    }
   ],
   "source": [
    "dataset.keys()"
   ]
  },
  {
   "cell_type": "code",
   "execution_count": 7,
   "metadata": {},
   "outputs": [],
   "source": [
    "data = pd.read_csv('speed_done.csv')"
   ]
  },
  {
   "cell_type": "code",
   "execution_count": 8,
   "metadata": {},
   "outputs": [],
   "source": [
    "test = data.sample(n=3500, replace=True, random_state=1)"
   ]
  },
  {
   "cell_type": "code",
   "execution_count": 9,
   "metadata": {},
   "outputs": [
    {
     "data": {
      "text/plain": [
       "(3500, 17)"
      ]
     },
     "execution_count": 9,
     "metadata": {},
     "output_type": "execute_result"
    }
   ],
   "source": [
    "test.shape"
   ]
  },
  {
   "cell_type": "code",
   "execution_count": 10,
   "metadata": {},
   "outputs": [
    {
     "data": {
      "text/html": [
       "<div>\n",
       "<style scoped>\n",
       "    .dataframe tbody tr th:only-of-type {\n",
       "        vertical-align: middle;\n",
       "    }\n",
       "\n",
       "    .dataframe tbody tr th {\n",
       "        vertical-align: top;\n",
       "    }\n",
       "\n",
       "    .dataframe thead th {\n",
       "        text-align: right;\n",
       "    }\n",
       "</style>\n",
       "<table border=\"1\" class=\"dataframe\">\n",
       "  <thead>\n",
       "    <tr style=\"text-align: right;\">\n",
       "      <th></th>\n",
       "      <th>Unnamed: 0</th>\n",
       "      <th>STREET</th>\n",
       "      <th>START</th>\n",
       "      <th>END_</th>\n",
       "      <th>SPD</th>\n",
       "      <th>LEN</th>\n",
       "      <th>ACC</th>\n",
       "      <th>VOL</th>\n",
       "      <th>F85th</th>\n",
       "      <th>LOCAL</th>\n",
       "      <th>F50th</th>\n",
       "      <th>lat</th>\n",
       "      <th>lng</th>\n",
       "      <th>intersection1</th>\n",
       "      <th>intersection2</th>\n",
       "      <th>intersection3</th>\n",
       "      <th>intersection4</th>\n",
       "    </tr>\n",
       "  </thead>\n",
       "  <tbody>\n",
       "    <tr>\n",
       "      <th>37</th>\n",
       "      <td>38</td>\n",
       "      <td>BLOSSOM AV</td>\n",
       "      <td>SANTA TERESA BL</td>\n",
       "      <td>BLOSSOM HILL RD</td>\n",
       "      <td>35</td>\n",
       "      <td>4950.0</td>\n",
       "      <td>22.0</td>\n",
       "      <td>10200.0</td>\n",
       "      <td>40.0</td>\n",
       "      <td>0</td>\n",
       "      <td>36.5</td>\n",
       "      <td>37.236728</td>\n",
       "      <td>-121.839643</td>\n",
       "      <td>BLOSSOM AV &amp; SANTA TERESA BL, San Jose</td>\n",
       "      <td>SANTA TERESA BL &amp; BLOSSOM AV, San Jose</td>\n",
       "      <td>BLOSSOM AV &amp; BLOSSOM HILL RD, San Jose</td>\n",
       "      <td>BLOSSOM HILL RD &amp; BLOSSOM AV, San Jose</td>\n",
       "    </tr>\n",
       "  </tbody>\n",
       "</table>\n",
       "</div>"
      ],
      "text/plain": [
       "    Unnamed: 0      STREET            START             END_  SPD     LEN  \\\n",
       "37          38  BLOSSOM AV  SANTA TERESA BL  BLOSSOM HILL RD   35  4950.0   \n",
       "\n",
       "     ACC      VOL  F85th  LOCAL  F50th        lat         lng  \\\n",
       "37  22.0  10200.0   40.0      0   36.5  37.236728 -121.839643   \n",
       "\n",
       "                             intersection1  \\\n",
       "37  BLOSSOM AV & SANTA TERESA BL, San Jose   \n",
       "\n",
       "                             intersection2  \\\n",
       "37  SANTA TERESA BL & BLOSSOM AV, San Jose   \n",
       "\n",
       "                             intersection3  \\\n",
       "37  BLOSSOM AV & BLOSSOM HILL RD, San Jose   \n",
       "\n",
       "                             intersection4  \n",
       "37  BLOSSOM HILL RD & BLOSSOM AV, San Jose  "
      ]
     },
     "execution_count": 10,
     "metadata": {},
     "output_type": "execute_result"
    }
   ],
   "source": [
    "test.head(1)"
   ]
  },
  {
   "cell_type": "code",
   "execution_count": 11,
   "metadata": {},
   "outputs": [
    {
     "data": {
      "text/html": [
       "<div>\n",
       "<style scoped>\n",
       "    .dataframe tbody tr th:only-of-type {\n",
       "        vertical-align: middle;\n",
       "    }\n",
       "\n",
       "    .dataframe tbody tr th {\n",
       "        vertical-align: top;\n",
       "    }\n",
       "\n",
       "    .dataframe thead th {\n",
       "        text-align: right;\n",
       "    }\n",
       "</style>\n",
       "<table border=\"1\" class=\"dataframe\">\n",
       "  <thead>\n",
       "    <tr style=\"text-align: right;\">\n",
       "      <th></th>\n",
       "      <th>Accident_Date</th>\n",
       "      <th>Accident_Time</th>\n",
       "      <th>LONGITUDE</th>\n",
       "      <th>LATITUDE</th>\n",
       "      <th>AStreet</th>\n",
       "      <th>BStreet</th>\n",
       "      <th>FatalInjuries</th>\n",
       "      <th>MajorInjuries</th>\n",
       "      <th>Involving</th>\n",
       "      <th>Nearest_Intersection</th>\n",
       "      <th>SPD</th>\n",
       "      <th>LEN</th>\n",
       "      <th>ACC</th>\n",
       "      <th>VOL</th>\n",
       "      <th>F85th</th>\n",
       "      <th>LOCAL</th>\n",
       "      <th>F50th</th>\n",
       "      <th>Accident</th>\n",
       "    </tr>\n",
       "  </thead>\n",
       "  <tbody>\n",
       "  </tbody>\n",
       "</table>\n",
       "</div>"
      ],
      "text/plain": [
       "Empty DataFrame\n",
       "Columns: [Accident_Date, Accident_Time, LONGITUDE, LATITUDE, AStreet, BStreet, FatalInjuries, MajorInjuries, Involving, Nearest_Intersection, SPD, LEN, ACC, VOL, F85th, LOCAL, F50th, Accident]\n",
       "Index: []"
      ]
     },
     "execution_count": 11,
     "metadata": {},
     "output_type": "execute_result"
    }
   ],
   "source": [
    "false_data = DataFrame(columns=['Accident_Date', 'Accident_Time', 'LONGITUDE', 'LATITUDE',\n",
    "       'AStreet', 'BStreet', 'FatalInjuries', 'MajorInjuries', 'Involving',\n",
    "       'Nearest_Intersection', 'SPD', 'LEN', 'ACC', 'VOL', 'F85th', 'LOCAL',\n",
    "       'F50th', 'Accident'])\n",
    "false_data"
   ]
  },
  {
   "cell_type": "code",
   "execution_count": 12,
   "metadata": {},
   "outputs": [],
   "source": [
    "for i in range(0,test.shape[0] - 1):\n",
    "    y = random.randint(2013, 2017)\n",
    "    m = random.randint(1, 12)\n",
    "    d = random.randint(1,28)\n",
    "    date = str(y*10000+m*100+d)\n",
    "    s_datetime = datetime.strptime(date, '%Y%m%d')\n",
    "    newformat = s_datetime.strftime('%Y-%m-%d')\n",
    "    time = random.randint(0,23)\n",
    "    random_false = test.iloc[i]\n",
    "    false_data = false_data.append({'Unnamed: 0' : i, 'Accident_Date' : newformat, 'Accident_Time' : time, 'LONGITUDE' : random_false['lng'], 'LATITUDE' : random_false['lat'],\n",
    "       'AStreet' : random_false['STREET'], 'BStreet' : random_false['START'], 'FatalInjuries' : 0, 'MajorInjuries' : 0, 'Involving' : 0, 'Nearest_Intersection' : random_false['STREET'] + ' & ' + random_false['START'], 'SPD' : random_false['SPD'], 'LEN' : random_false['LEN'], 'ACC' : random_false['ACC'], 'VOL' : random_false['VOL'], 'F85th' : random_false['F85th'], 'LOCAL' : random_false['LOCAL'],\n",
    "       'F50th' : random_false['F50th'], 'Accident' : 0}, ignore_index=True)"
   ]
  },
  {
   "cell_type": "code",
   "execution_count": 13,
   "metadata": {},
   "outputs": [],
   "source": [
    "#weather = pd.read_csv('weather_clean.csv')"
   ]
  },
  {
   "cell_type": "code",
   "execution_count": 14,
   "metadata": {},
   "outputs": [
    {
     "data": {
      "text/html": [
       "<div>\n",
       "<style scoped>\n",
       "    .dataframe tbody tr th:only-of-type {\n",
       "        vertical-align: middle;\n",
       "    }\n",
       "\n",
       "    .dataframe tbody tr th {\n",
       "        vertical-align: top;\n",
       "    }\n",
       "\n",
       "    .dataframe thead th {\n",
       "        text-align: right;\n",
       "    }\n",
       "</style>\n",
       "<table border=\"1\" class=\"dataframe\">\n",
       "  <thead>\n",
       "    <tr style=\"text-align: right;\">\n",
       "      <th></th>\n",
       "      <th>Accident_Date</th>\n",
       "      <th>Accident_Time</th>\n",
       "      <th>LONGITUDE</th>\n",
       "      <th>LATITUDE</th>\n",
       "      <th>AStreet</th>\n",
       "      <th>BStreet</th>\n",
       "      <th>FatalInjuries</th>\n",
       "      <th>MajorInjuries</th>\n",
       "      <th>Involving</th>\n",
       "      <th>Nearest_Intersection</th>\n",
       "      <th>SPD</th>\n",
       "      <th>LEN</th>\n",
       "      <th>ACC</th>\n",
       "      <th>VOL</th>\n",
       "      <th>F85th</th>\n",
       "      <th>LOCAL</th>\n",
       "      <th>F50th</th>\n",
       "      <th>Accident</th>\n",
       "      <th>Unnamed: 0</th>\n",
       "    </tr>\n",
       "  </thead>\n",
       "  <tbody>\n",
       "    <tr>\n",
       "      <th>0</th>\n",
       "      <td>2016-04-13</td>\n",
       "      <td>10</td>\n",
       "      <td>-121.839643</td>\n",
       "      <td>37.236728</td>\n",
       "      <td>BLOSSOM AV</td>\n",
       "      <td>SANTA TERESA BL</td>\n",
       "      <td>0</td>\n",
       "      <td>0</td>\n",
       "      <td>0</td>\n",
       "      <td>BLOSSOM AV &amp; SANTA TERESA BL</td>\n",
       "      <td>35</td>\n",
       "      <td>4950.0</td>\n",
       "      <td>22.0</td>\n",
       "      <td>10200.0</td>\n",
       "      <td>40.0</td>\n",
       "      <td>0</td>\n",
       "      <td>36.5</td>\n",
       "      <td>0</td>\n",
       "      <td>0.0</td>\n",
       "    </tr>\n",
       "    <tr>\n",
       "      <th>1</th>\n",
       "      <td>2013-01-16</td>\n",
       "      <td>19</td>\n",
       "      <td>-122.014960</td>\n",
       "      <td>37.293634</td>\n",
       "      <td>MILLER AV</td>\n",
       "      <td>PROSPECT RD</td>\n",
       "      <td>0</td>\n",
       "      <td>0</td>\n",
       "      <td>0</td>\n",
       "      <td>MILLER AV &amp; PROSPECT RD</td>\n",
       "      <td>35</td>\n",
       "      <td>6150.0</td>\n",
       "      <td>21.0</td>\n",
       "      <td>8300.0</td>\n",
       "      <td>39.0</td>\n",
       "      <td>0</td>\n",
       "      <td>35.0</td>\n",
       "      <td>0</td>\n",
       "      <td>1.0</td>\n",
       "    </tr>\n",
       "    <tr>\n",
       "      <th>2</th>\n",
       "      <td>2013-05-20</td>\n",
       "      <td>2</td>\n",
       "      <td>-121.916760</td>\n",
       "      <td>37.381073</td>\n",
       "      <td>CHARCOT AV</td>\n",
       "      <td>ZANKER RD</td>\n",
       "      <td>0</td>\n",
       "      <td>0</td>\n",
       "      <td>0</td>\n",
       "      <td>CHARCOT AV &amp; ZANKER RD</td>\n",
       "      <td>35</td>\n",
       "      <td>3940.0</td>\n",
       "      <td>4.0</td>\n",
       "      <td>7600.0</td>\n",
       "      <td>36.0</td>\n",
       "      <td>0</td>\n",
       "      <td>33.0</td>\n",
       "      <td>0</td>\n",
       "      <td>2.0</td>\n",
       "    </tr>\n",
       "    <tr>\n",
       "      <th>3</th>\n",
       "      <td>2013-09-23</td>\n",
       "      <td>13</td>\n",
       "      <td>-121.913618</td>\n",
       "      <td>37.294436</td>\n",
       "      <td>HAMILTON AV</td>\n",
       "      <td>MERIDIAN AV</td>\n",
       "      <td>0</td>\n",
       "      <td>0</td>\n",
       "      <td>0</td>\n",
       "      <td>HAMILTON AV &amp; MERIDIAN AV</td>\n",
       "      <td>35</td>\n",
       "      <td>2700.0</td>\n",
       "      <td>24.0</td>\n",
       "      <td>14550.0</td>\n",
       "      <td>38.0</td>\n",
       "      <td>0</td>\n",
       "      <td>35.0</td>\n",
       "      <td>0</td>\n",
       "      <td>3.0</td>\n",
       "    </tr>\n",
       "    <tr>\n",
       "      <th>4</th>\n",
       "      <td>2017-02-10</td>\n",
       "      <td>13</td>\n",
       "      <td>-121.898223</td>\n",
       "      <td>37.400803</td>\n",
       "      <td>FORTUNE DR</td>\n",
       "      <td>RINGWOOD AV</td>\n",
       "      <td>0</td>\n",
       "      <td>0</td>\n",
       "      <td>0</td>\n",
       "      <td>FORTUNE DR &amp; RINGWOOD AV</td>\n",
       "      <td>35</td>\n",
       "      <td>2730.0</td>\n",
       "      <td>3.0</td>\n",
       "      <td>1450.0</td>\n",
       "      <td>39.0</td>\n",
       "      <td>0</td>\n",
       "      <td>35.0</td>\n",
       "      <td>0</td>\n",
       "      <td>4.0</td>\n",
       "    </tr>\n",
       "  </tbody>\n",
       "</table>\n",
       "</div>"
      ],
      "text/plain": [
       "  Accident_Date Accident_Time   LONGITUDE   LATITUDE      AStreet  \\\n",
       "0    2016-04-13            10 -121.839643  37.236728   BLOSSOM AV   \n",
       "1    2013-01-16            19 -122.014960  37.293634    MILLER AV   \n",
       "2    2013-05-20             2 -121.916760  37.381073   CHARCOT AV   \n",
       "3    2013-09-23            13 -121.913618  37.294436  HAMILTON AV   \n",
       "4    2017-02-10            13 -121.898223  37.400803   FORTUNE DR   \n",
       "\n",
       "           BStreet FatalInjuries MajorInjuries Involving  \\\n",
       "0  SANTA TERESA BL             0             0         0   \n",
       "1      PROSPECT RD             0             0         0   \n",
       "2        ZANKER RD             0             0         0   \n",
       "3      MERIDIAN AV             0             0         0   \n",
       "4      RINGWOOD AV             0             0         0   \n",
       "\n",
       "           Nearest_Intersection SPD     LEN   ACC      VOL  F85th LOCAL  \\\n",
       "0  BLOSSOM AV & SANTA TERESA BL  35  4950.0  22.0  10200.0   40.0     0   \n",
       "1       MILLER AV & PROSPECT RD  35  6150.0  21.0   8300.0   39.0     0   \n",
       "2        CHARCOT AV & ZANKER RD  35  3940.0   4.0   7600.0   36.0     0   \n",
       "3     HAMILTON AV & MERIDIAN AV  35  2700.0  24.0  14550.0   38.0     0   \n",
       "4      FORTUNE DR & RINGWOOD AV  35  2730.0   3.0   1450.0   39.0     0   \n",
       "\n",
       "   F50th Accident  Unnamed: 0  \n",
       "0   36.5        0         0.0  \n",
       "1   35.0        0         1.0  \n",
       "2   33.0        0         2.0  \n",
       "3   35.0        0         3.0  \n",
       "4   35.0        0         4.0  "
      ]
     },
     "execution_count": 14,
     "metadata": {},
     "output_type": "execute_result"
    }
   ],
   "source": [
    "false_data.head(5)"
   ]
  },
  {
   "cell_type": "code",
   "execution_count": 15,
   "metadata": {},
   "outputs": [],
   "source": [
    "#for y in range(len(weather['Date'])):\n",
    "#    wea = str(int(weather['Date'][y]))\n",
    "#    datetimeobject = datetime.strptime(wea,'%Y%m%d')\n",
    "#    newformat = datetimeobject.strftime('%Y-%m-%d')\n",
    "#    weather['Date'][y] = newformat"
   ]
  },
  {
   "cell_type": "code",
   "execution_count": 16,
   "metadata": {},
   "outputs": [],
   "source": [
    "#weather.head(5)"
   ]
  },
  {
   "cell_type": "code",
   "execution_count": 17,
   "metadata": {},
   "outputs": [],
   "source": [
    "#weather.to_csv('weather_clean.csv')"
   ]
  },
  {
   "cell_type": "code",
   "execution_count": 18,
   "metadata": {},
   "outputs": [],
   "source": [
    "weather = pd.read_csv('weather_clean.csv')"
   ]
  },
  {
   "cell_type": "code",
   "execution_count": 19,
   "metadata": {},
   "outputs": [
    {
     "data": {
      "text/html": [
       "<div>\n",
       "<style scoped>\n",
       "    .dataframe tbody tr th:only-of-type {\n",
       "        vertical-align: middle;\n",
       "    }\n",
       "\n",
       "    .dataframe tbody tr th {\n",
       "        vertical-align: top;\n",
       "    }\n",
       "\n",
       "    .dataframe thead th {\n",
       "        text-align: right;\n",
       "    }\n",
       "</style>\n",
       "<table border=\"1\" class=\"dataframe\">\n",
       "  <thead>\n",
       "    <tr style=\"text-align: right;\">\n",
       "      <th></th>\n",
       "      <th>Unnamed: 0</th>\n",
       "      <th>Date</th>\n",
       "      <th>Time</th>\n",
       "      <th>Precip</th>\n",
       "      <th>Air max</th>\n",
       "      <th>min</th>\n",
       "      <th>obs</th>\n",
       "    </tr>\n",
       "  </thead>\n",
       "  <tbody>\n",
       "    <tr>\n",
       "      <th>0</th>\n",
       "      <td>0</td>\n",
       "      <td>2000-01-01</td>\n",
       "      <td>2359</td>\n",
       "      <td>0.0</td>\n",
       "      <td>55</td>\n",
       "      <td>44</td>\n",
       "      <td>49.5</td>\n",
       "    </tr>\n",
       "    <tr>\n",
       "      <th>1</th>\n",
       "      <td>1</td>\n",
       "      <td>2000-01-02</td>\n",
       "      <td>1600</td>\n",
       "      <td>0.0</td>\n",
       "      <td>63</td>\n",
       "      <td>37</td>\n",
       "      <td>53.0</td>\n",
       "    </tr>\n",
       "    <tr>\n",
       "      <th>2</th>\n",
       "      <td>2</td>\n",
       "      <td>2000-01-03</td>\n",
       "      <td>1600</td>\n",
       "      <td>0.0</td>\n",
       "      <td>58</td>\n",
       "      <td>37</td>\n",
       "      <td>57.0</td>\n",
       "    </tr>\n",
       "    <tr>\n",
       "      <th>3</th>\n",
       "      <td>3</td>\n",
       "      <td>2000-01-04</td>\n",
       "      <td>1600</td>\n",
       "      <td>0.0</td>\n",
       "      <td>58</td>\n",
       "      <td>38</td>\n",
       "      <td>57.0</td>\n",
       "    </tr>\n",
       "    <tr>\n",
       "      <th>4</th>\n",
       "      <td>4</td>\n",
       "      <td>2000-01-05</td>\n",
       "      <td>1600</td>\n",
       "      <td>0.0</td>\n",
       "      <td>59</td>\n",
       "      <td>38</td>\n",
       "      <td>58.0</td>\n",
       "    </tr>\n",
       "  </tbody>\n",
       "</table>\n",
       "</div>"
      ],
      "text/plain": [
       "   Unnamed: 0        Date  Time  Precip  Air max  min   obs\n",
       "0           0  2000-01-01  2359     0.0       55   44  49.5\n",
       "1           1  2000-01-02  1600     0.0       63   37  53.0\n",
       "2           2  2000-01-03  1600     0.0       58   37  57.0\n",
       "3           3  2000-01-04  1600     0.0       58   38  57.0\n",
       "4           4  2000-01-05  1600     0.0       59   38  58.0"
      ]
     },
     "execution_count": 19,
     "metadata": {},
     "output_type": "execute_result"
    }
   ],
   "source": [
    "weather.head(5)"
   ]
  },
  {
   "cell_type": "code",
   "execution_count": 20,
   "metadata": {},
   "outputs": [
    {
     "data": {
      "text/plain": [
       "Index(['Unnamed: 0', 'Date', 'Time', 'Precip', 'Air max', 'min', 'obs'], dtype='object')"
      ]
     },
     "execution_count": 20,
     "metadata": {},
     "output_type": "execute_result"
    }
   ],
   "source": [
    "weather.keys()"
   ]
  },
  {
   "cell_type": "code",
   "execution_count": 21,
   "metadata": {},
   "outputs": [],
   "source": [
    "weather = weather.drop(['Unnamed: 0'], axis=1)"
   ]
  },
  {
   "cell_type": "code",
   "execution_count": 22,
   "metadata": {},
   "outputs": [
    {
     "data": {
      "text/plain": [
       "Index(['Date', 'Time', 'Precip', 'Air max', 'min', 'obs'], dtype='object')"
      ]
     },
     "execution_count": 22,
     "metadata": {},
     "output_type": "execute_result"
    }
   ],
   "source": [
    "weather.keys()"
   ]
  },
  {
   "cell_type": "code",
   "execution_count": 23,
   "metadata": {},
   "outputs": [],
   "source": [
    "false_dataset = pd.merge(left=false_data,right=weather, left_on='Accident_Date', right_on='Date')"
   ]
  },
  {
   "cell_type": "code",
   "execution_count": 24,
   "metadata": {},
   "outputs": [
    {
     "name": "stdout",
     "output_type": "stream",
     "text": [
      "<class 'pandas.core.frame.DataFrame'>\n",
      "Int64Index: 3499 entries, 0 to 3498\n",
      "Data columns (total 25 columns):\n",
      "Accident_Date           3499 non-null object\n",
      "Accident_Time           3499 non-null object\n",
      "LONGITUDE               3499 non-null float64\n",
      "LATITUDE                3499 non-null float64\n",
      "AStreet                 3499 non-null object\n",
      "BStreet                 3499 non-null object\n",
      "FatalInjuries           3499 non-null object\n",
      "MajorInjuries           3499 non-null object\n",
      "Involving               3499 non-null object\n",
      "Nearest_Intersection    3499 non-null object\n",
      "SPD                     3499 non-null object\n",
      "LEN                     3499 non-null float64\n",
      "ACC                     3499 non-null float64\n",
      "VOL                     3499 non-null float64\n",
      "F85th                   3499 non-null float64\n",
      "LOCAL                   3499 non-null object\n",
      "F50th                   3499 non-null float64\n",
      "Accident                3499 non-null object\n",
      "Unnamed: 0              3499 non-null float64\n",
      "Date                    3499 non-null object\n",
      "Time                    3499 non-null int64\n",
      "Precip                  3499 non-null float64\n",
      "Air max                 3499 non-null int64\n",
      "min                     3499 non-null int64\n",
      "obs                     3499 non-null float64\n",
      "dtypes: float64(10), int64(3), object(12)\n",
      "memory usage: 710.7+ KB\n"
     ]
    }
   ],
   "source": [
    "false_dataset.info()"
   ]
  },
  {
   "cell_type": "code",
   "execution_count": 25,
   "metadata": {},
   "outputs": [
    {
     "data": {
      "text/plain": [
       "Index(['Accident_Date', 'Accident_Time', 'LONGITUDE', 'LATITUDE', 'AStreet',\n",
       "       'BStreet', 'FatalInjuries', 'MajorInjuries', 'Involving',\n",
       "       'Nearest_Intersection', 'SPD', 'LEN', 'ACC', 'VOL', 'F85th', 'LOCAL',\n",
       "       'F50th', 'Accident', 'Unnamed: 0', 'Date', 'Time', 'Precip', 'Air max',\n",
       "       'min', 'obs'],\n",
       "      dtype='object')"
      ]
     },
     "execution_count": 25,
     "metadata": {},
     "output_type": "execute_result"
    }
   ],
   "source": [
    "false_dataset.head(1)\n",
    "false_dataset.keys()"
   ]
  },
  {
   "cell_type": "code",
   "execution_count": 26,
   "metadata": {},
   "outputs": [
    {
     "data": {
      "text/plain": [
       "(3499, 25)"
      ]
     },
     "execution_count": 26,
     "metadata": {},
     "output_type": "execute_result"
    }
   ],
   "source": [
    "false_dataset.shape"
   ]
  },
  {
   "cell_type": "code",
   "execution_count": 27,
   "metadata": {},
   "outputs": [
    {
     "data": {
      "text/plain": [
       "(3499, 23)"
      ]
     },
     "execution_count": 27,
     "metadata": {},
     "output_type": "execute_result"
    }
   ],
   "source": [
    "false_dataset = false_dataset.drop(columns=['Date','Time'])\n",
    "false_dataset.shape"
   ]
  },
  {
   "cell_type": "code",
   "execution_count": 28,
   "metadata": {},
   "outputs": [
    {
     "data": {
      "text/plain": [
       "Index(['Accident_Date', 'Accident_Time', 'LONGITUDE', 'LATITUDE', 'AStreet',\n",
       "       'BStreet', 'FatalInjuries', 'MajorInjuries', 'Involving',\n",
       "       'Nearest_Intersection', 'SPD', 'LEN', 'ACC', 'VOL', 'F85th', 'LOCAL',\n",
       "       'F50th', 'Accident', 'Unnamed: 0', 'Precip', 'Air max', 'min', 'obs'],\n",
       "      dtype='object')"
      ]
     },
     "execution_count": 28,
     "metadata": {},
     "output_type": "execute_result"
    }
   ],
   "source": [
    "false_dataset.keys()"
   ]
  },
  {
   "cell_type": "code",
   "execution_count": 29,
   "metadata": {},
   "outputs": [
    {
     "data": {
      "text/html": [
       "<div>\n",
       "<style scoped>\n",
       "    .dataframe tbody tr th:only-of-type {\n",
       "        vertical-align: middle;\n",
       "    }\n",
       "\n",
       "    .dataframe tbody tr th {\n",
       "        vertical-align: top;\n",
       "    }\n",
       "\n",
       "    .dataframe thead th {\n",
       "        text-align: right;\n",
       "    }\n",
       "</style>\n",
       "<table border=\"1\" class=\"dataframe\">\n",
       "  <thead>\n",
       "    <tr style=\"text-align: right;\">\n",
       "      <th></th>\n",
       "      <th>Accident_Date</th>\n",
       "      <th>Accident_Time</th>\n",
       "      <th>LONGITUDE</th>\n",
       "      <th>LATITUDE</th>\n",
       "      <th>AStreet</th>\n",
       "      <th>BStreet</th>\n",
       "      <th>FatalInjuries</th>\n",
       "      <th>MajorInjuries</th>\n",
       "      <th>Involving</th>\n",
       "      <th>Nearest_Intersection</th>\n",
       "      <th>SPD</th>\n",
       "      <th>LEN</th>\n",
       "      <th>ACC</th>\n",
       "      <th>VOL</th>\n",
       "      <th>F85th</th>\n",
       "      <th>LOCAL</th>\n",
       "      <th>F50th</th>\n",
       "      <th>Accident</th>\n",
       "      <th>Unnamed: 0</th>\n",
       "      <th>Precip</th>\n",
       "      <th>Air max</th>\n",
       "      <th>min</th>\n",
       "      <th>obs</th>\n",
       "    </tr>\n",
       "  </thead>\n",
       "  <tbody>\n",
       "    <tr>\n",
       "      <th>0</th>\n",
       "      <td>2016-04-13</td>\n",
       "      <td>10</td>\n",
       "      <td>-121.839643</td>\n",
       "      <td>37.236728</td>\n",
       "      <td>BLOSSOM AV</td>\n",
       "      <td>SANTA TERESA BL</td>\n",
       "      <td>0</td>\n",
       "      <td>0</td>\n",
       "      <td>0</td>\n",
       "      <td>BLOSSOM AV &amp; SANTA TERESA BL</td>\n",
       "      <td>35</td>\n",
       "      <td>4950.0</td>\n",
       "      <td>22.0</td>\n",
       "      <td>10200.0</td>\n",
       "      <td>40.0</td>\n",
       "      <td>0</td>\n",
       "      <td>36.5</td>\n",
       "      <td>0</td>\n",
       "      <td>0.0</td>\n",
       "      <td>0.06</td>\n",
       "      <td>71</td>\n",
       "      <td>48</td>\n",
       "      <td>59.5</td>\n",
       "    </tr>\n",
       "  </tbody>\n",
       "</table>\n",
       "</div>"
      ],
      "text/plain": [
       "  Accident_Date Accident_Time   LONGITUDE   LATITUDE     AStreet  \\\n",
       "0    2016-04-13            10 -121.839643  37.236728  BLOSSOM AV   \n",
       "\n",
       "           BStreet FatalInjuries MajorInjuries Involving  \\\n",
       "0  SANTA TERESA BL             0             0         0   \n",
       "\n",
       "           Nearest_Intersection SPD     LEN   ACC      VOL  F85th LOCAL  \\\n",
       "0  BLOSSOM AV & SANTA TERESA BL  35  4950.0  22.0  10200.0   40.0     0   \n",
       "\n",
       "   F50th Accident  Unnamed: 0  Precip  Air max  min   obs  \n",
       "0   36.5        0         0.0    0.06       71   48  59.5  "
      ]
     },
     "execution_count": 29,
     "metadata": {},
     "output_type": "execute_result"
    }
   ],
   "source": [
    "false_dataset.head(1)"
   ]
  },
  {
   "cell_type": "code",
   "execution_count": 30,
   "metadata": {},
   "outputs": [],
   "source": [
    "#false_dataset_1 = false_dataset"
   ]
  },
  {
   "cell_type": "code",
   "execution_count": 31,
   "metadata": {},
   "outputs": [],
   "source": [
    "#frame = [false_dataset, false_dataset_1, false_dataset_1,false_dataset_1,false_dataset_1]\n",
    "#false_dataset = pd.concat(frame)"
   ]
  },
  {
   "cell_type": "code",
   "execution_count": 32,
   "metadata": {},
   "outputs": [
    {
     "data": {
      "text/plain": [
       "(3499, 23)"
      ]
     },
     "execution_count": 32,
     "metadata": {},
     "output_type": "execute_result"
    }
   ],
   "source": [
    "false_dataset.shape"
   ]
  },
  {
   "cell_type": "code",
   "execution_count": 33,
   "metadata": {},
   "outputs": [],
   "source": [
    "false_dataset.to_csv(r'false_data.csv')"
   ]
  }
 ],
 "metadata": {
  "kernelspec": {
   "display_name": "Python 3",
   "language": "python",
   "name": "python3"
  },
  "language_info": {
   "codemirror_mode": {
    "name": "ipython",
    "version": 3
   },
   "file_extension": ".py",
   "mimetype": "text/x-python",
   "name": "python",
   "nbconvert_exporter": "python",
   "pygments_lexer": "ipython3",
   "version": "3.7.1"
  }
 },
 "nbformat": 4,
 "nbformat_minor": 2
}
